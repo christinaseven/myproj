{
 "cells": [
  {
   "cell_type": "markdown",
   "metadata": {},
   "source": [
    "### Machine Learning - Assignment 2"
   ]
  },
  {
   "cell_type": "code",
   "execution_count": 1,
   "metadata": {},
   "outputs": [
    {
     "name": "stderr",
     "output_type": "stream",
     "text": [
      "C:\\Users\\Christina\\anaconda3\\lib\\site-packages\\numpy\\_distributor_init.py:32: UserWarning: loaded more than 1 DLL from .libs:\n",
      "C:\\Users\\Christina\\anaconda3\\lib\\site-packages\\numpy\\.libs\\libopenblas.NOIJJG62EMASZI6NYURL6JBKM4EVBGM7.gfortran-win_amd64.dll\n",
      "C:\\Users\\Christina\\anaconda3\\lib\\site-packages\\numpy\\.libs\\libopenblas.WCDJNK7YVMPZQ2ME2ZZHJJRJ3JIKNDB7.gfortran-win_amd64.dll\n",
      "  stacklevel=1)\n"
     ]
    }
   ],
   "source": [
    "import tensorflow as tf\n",
    "import numpy as np\n",
    "import matplotlib.pyplot as plt\n",
    "from sklearn.utils import shuffle\n",
    "import sklearn"
   ]
  },
  {
   "cell_type": "markdown",
   "metadata": {},
   "source": [
    "Fashion Mnist dataset contains 70,000 grayscale images in 10 categories. Each image is 28x28. We have in total 60000 images in train set and 10000 images for testing."
   ]
  },
  {
   "cell_type": "code",
   "execution_count": 2,
   "metadata": {},
   "outputs": [],
   "source": [
    "fashion_mnist = tf.keras.datasets.fashion_mnist"
   ]
  },
  {
   "cell_type": "code",
   "execution_count": 3,
   "metadata": {},
   "outputs": [],
   "source": [
    "(train_images, train_labels), (test_images, test_labels) = fashion_mnist.load_data()"
   ]
  },
  {
   "cell_type": "code",
   "execution_count": 4,
   "metadata": {},
   "outputs": [
    {
     "data": {
      "text/plain": [
       "(60000, 28, 28)"
      ]
     },
     "execution_count": 4,
     "metadata": {},
     "output_type": "execute_result"
    }
   ],
   "source": [
    "train_images.shape #60000 train images"
   ]
  },
  {
   "cell_type": "code",
   "execution_count": 5,
   "metadata": {},
   "outputs": [
    {
     "data": {
      "text/plain": [
       "(60000,)"
      ]
     },
     "execution_count": 5,
     "metadata": {},
     "output_type": "execute_result"
    }
   ],
   "source": [
    "train_labels.shape #with their labels"
   ]
  },
  {
   "cell_type": "code",
   "execution_count": 6,
   "metadata": {},
   "outputs": [
    {
     "data": {
      "text/plain": [
       "(10000, 28, 28)"
      ]
     },
     "execution_count": 6,
     "metadata": {},
     "output_type": "execute_result"
    }
   ],
   "source": [
    "test_images.shape #10000 test images."
   ]
  },
  {
   "cell_type": "markdown",
   "metadata": {},
   "source": [
    "### Question 1 : \n",
    "Choose randomly 150 images from each category, so in total 150x10 = 1500 images, and this will be the dataset."
   ]
  },
  {
   "cell_type": "code",
   "execution_count": 7,
   "metadata": {},
   "outputs": [
    {
     "data": {
      "text/plain": [
       "(70000, 28, 28)"
      ]
     },
     "execution_count": 7,
     "metadata": {},
     "output_type": "execute_result"
    }
   ],
   "source": [
    "all_data = np.concatenate((train_images, test_images)) #merge train and test set data\n",
    "all_data.shape"
   ]
  },
  {
   "cell_type": "code",
   "execution_count": 8,
   "metadata": {},
   "outputs": [
    {
     "data": {
      "text/plain": [
       "(70000,)"
      ]
     },
     "execution_count": 8,
     "metadata": {},
     "output_type": "execute_result"
    }
   ],
   "source": [
    "all_labels= np.concatenate((train_labels, test_labels)) #the same for labels\n",
    "all_labels.shape"
   ]
  },
  {
   "cell_type": "code",
   "execution_count": 9,
   "metadata": {
    "scrolled": true
   },
   "outputs": [
    {
     "data": {
      "text/plain": [
       "array([0, 1, 2, 3, 4, 5, 6, 7, 8, 9], dtype=uint8)"
      ]
     },
     "execution_count": 9,
     "metadata": {},
     "output_type": "execute_result"
    }
   ],
   "source": [
    "labels= np.unique(train_labels) #we have 10 district labels\n",
    "labels"
   ]
  },
  {
   "cell_type": "code",
   "execution_count": 10,
   "metadata": {},
   "outputs": [
    {
     "name": "stdout",
     "output_type": "stream",
     "text": [
      "7000\n",
      "7000\n",
      "7000\n",
      "7000\n",
      "7000\n",
      "7000\n",
      "7000\n",
      "7000\n",
      "7000\n",
      "7000\n"
     ]
    }
   ],
   "source": [
    "for i in labels:\n",
    "    print(np.count_nonzero(all_labels == i))\n",
    "#there are 7000 items from each category in dataset. \n",
    "#I have to choose 150 from 7000 randomly for each of the 10 categories."
   ]
  },
  {
   "cell_type": "code",
   "execution_count": 11,
   "metadata": {
    "scrolled": true
   },
   "outputs": [
    {
     "name": "stdout",
     "output_type": "stream",
     "text": [
      "[    0    11    15 ... 69978 69993 69995]\n",
      "(7000,)\n"
     ]
    }
   ],
   "source": [
    "indices = np.where(all_labels ==9)[0] #the 7000 indices of dataset which are from category 9(example).\n",
    "print(indices)\n",
    "print(indices.shape)"
   ]
  },
  {
   "cell_type": "code",
   "execution_count": 12,
   "metadata": {
    "scrolled": false
   },
   "outputs": [
    {
     "data": {
      "text/plain": [
       "array([27362, 26064, 16200, 32993, 49492, 48718, 58388, 10255, 43823,\n",
       "       58794, 59218, 67472, 67488, 34940, 64850,  6991, 26010, 21157,\n",
       "       22060, 29200, 16697,  5286, 29175, 62246, 69193, 60401, 21415,\n",
       "       51034, 48654, 20292, 18448, 25051, 69964,  1008, 19779,  7535,\n",
       "        7948,  6637, 32646,  4326, 33666, 27498, 47334,  5361, 67017,\n",
       "        7095, 22835,  1552, 27249, 66717, 35488, 29499, 11827, 61838,\n",
       "        8001, 21547, 21547, 19360, 60234, 36176, 35696,  7544, 43767,\n",
       "       65019, 44786, 16062, 31608, 55771, 67017, 50033, 43632, 54686,\n",
       "       40918, 40283, 20914, 64614, 39514, 32417, 69214,  4377, 41944,\n",
       "       60185, 24541, 26613, 15517, 29827, 26830, 41891, 22331, 44299,\n",
       "       48863, 10610, 47334, 61440, 52874, 50952, 11798, 61276, 39235,\n",
       "       11432, 16548, 33353, 69336, 27813, 29833, 44644, 59714,  5502,\n",
       "       54525, 15655, 63383, 58070, 14404, 36698,  2667, 60023, 37542,\n",
       "       54348, 19344,  8119, 24471, 15902,  9690, 44622, 19974, 29890,\n",
       "        2014, 24443, 56432, 60297, 24279, 46447, 50815, 34823, 61793,\n",
       "       58321, 42389, 65408, 62482,  9211, 68840, 62761, 19575, 67453,\n",
       "       60644, 28054, 43102, 26076, 55500, 69250], dtype=int64)"
      ]
     },
     "execution_count": 12,
     "metadata": {},
     "output_type": "execute_result"
    }
   ],
   "source": [
    "np.random.seed(0) #choose 150 randomly\n",
    "random_labels=np.random.choice(indices,150)\n",
    "random_labels"
   ]
  },
  {
   "cell_type": "markdown",
   "metadata": {},
   "source": [
    "##### Work for all data of all categories with the above way and create the dataset of 1500 points."
   ]
  },
  {
   "cell_type": "code",
   "execution_count": 13,
   "metadata": {},
   "outputs": [],
   "source": [
    "my_data=[]\n",
    "my_labels=[]\n",
    "for i in labels:\n",
    "    indices = np.where(all_labels ==i)[0]\n",
    "    np.random.seed(0)\n",
    "    random_labels=np.random.choice(indices,150)\n",
    "    for j in range(len(random_labels)):\n",
    "        k=0\n",
    "        my_data.append(all_data[random_labels[j]])\n",
    "        my_labels.append(all_labels[random_labels[j]])\n",
    "        k=k+1"
   ]
  },
  {
   "cell_type": "code",
   "execution_count": 14,
   "metadata": {},
   "outputs": [
    {
     "name": "stdout",
     "output_type": "stream",
     "text": [
      "(1500,)\n",
      "(1500, 28, 28)\n"
     ]
    }
   ],
   "source": [
    "my_data=np.array(my_data)\n",
    "my_labels=np.array(my_labels)\n",
    "\n",
    "print(my_labels.shape)\n",
    "print(my_data.shape)"
   ]
  },
  {
   "cell_type": "code",
   "execution_count": 15,
   "metadata": {},
   "outputs": [],
   "source": [
    "class_names = ['T-shirt/top', 'Trouser', 'Pullover', 'Dress', 'Coat',\n",
    "               'Sandal', 'Shirt', 'Sneaker', 'Bag', 'Ankle boot']"
   ]
  },
  {
   "cell_type": "code",
   "execution_count": 16,
   "metadata": {},
   "outputs": [
    {
     "data": {
      "text/plain": [
       "<matplotlib.colorbar.Colorbar at 0x249775f4e88>"
      ]
     },
     "execution_count": 16,
     "metadata": {},
     "output_type": "execute_result"
    },
    {
     "data": {
      "image/png": "[encoded data removed]",
      "text/plain": [
       "<Figure size 432x288 with 2 Axes>"
      ]
     },
     "metadata": {
      "needs_background": "light"
     },
     "output_type": "display_data"
    }
   ],
   "source": [
    "plt.imshow(my_data[0], cmap=plt.cm.binary)\n",
    "plt.colorbar()"
   ]
  },
  {
   "cell_type": "markdown",
   "metadata": {},
   "source": [
    "We can see that the pixel values are from 0 to 255. We will scale them in (0,1)."
   ]
  },
  {
   "cell_type": "code",
   "execution_count": 17,
   "metadata": {},
   "outputs": [],
   "source": [
    "my_data = my_data / 255.0"
   ]
  },
  {
   "cell_type": "markdown",
   "metadata": {},
   "source": [
    "Take a look at data! We know that the first 150 images are from category 0(T-shirt/top). The next 150 trousers etc..So we shuffle the data randomly:"
   ]
  },
  {
   "cell_type": "code",
   "execution_count": 18,
   "metadata": {},
   "outputs": [],
   "source": [
    "my_data, my_labels = sklearn.utils.shuffle(my_data, my_labels, random_state=42)"
   ]
  },
  {
   "cell_type": "code",
   "execution_count": 19,
   "metadata": {
    "scrolled": true
   },
   "outputs": [
    {
     "data": {
      "image/png": "[encoded data removed]",
      "text/plain": [
       "<Figure size 720x720 with 25 Axes>"
      ]
     },
     "metadata": {},
     "output_type": "display_data"
    }
   ],
   "source": [
    "plt.figure(figsize=(10,10))\n",
    "for i in range(25):\n",
    "    plt.subplot(5,5,i+1)\n",
    "    plt.xticks([])\n",
    "    plt.yticks([])\n",
    "    plt.grid(False)\n",
    "    plt.imshow(my_data[i], cmap=plt.cm.binary)\n",
    "    plt.xlabel(class_names[my_labels[i]])\n",
    "plt.show()"
   ]
  },
  {
   "cell_type": "markdown",
   "metadata": {},
   "source": [
    "### Question 2. \n",
    "## α)  PCA for M=50,25,10"
   ]
  },
  {
   "cell_type": "markdown",
   "metadata": {},
   "source": [
    "Choose the right number of dimensions:\n",
    "First, we need to choose the right number of dimensions (i.e., the right number of principal components). For this, we apply PCA with the original number of dimensions( 784) and create the scree plot to see how well PCA captures the variance of the data."
   ]
  },
  {
   "cell_type": "code",
   "execution_count": 20,
   "metadata": {
    "scrolled": true
   },
   "outputs": [
    {
     "data": {
      "text/plain": [
       "(1500, 28, 28)"
      ]
     },
     "execution_count": 20,
     "metadata": {},
     "output_type": "execute_result"
    }
   ],
   "source": [
    "my_data.shape"
   ]
  },
  {
   "cell_type": "markdown",
   "metadata": {},
   "source": [
    "We flatten the data so each 28x28 images becomes a 784 dim. vector"
   ]
  },
  {
   "cell_type": "code",
   "execution_count": 21,
   "metadata": {},
   "outputs": [],
   "source": [
    "my_flattened_data=[]\n",
    "for i in range(my_data.shape[0]):\n",
    "    my_flattened_data.append(my_data[i].flatten())"
   ]
  },
  {
   "cell_type": "code",
   "execution_count": 22,
   "metadata": {},
   "outputs": [
    {
     "data": {
      "text/plain": [
       "(1500, 784)"
      ]
     },
     "execution_count": 22,
     "metadata": {},
     "output_type": "execute_result"
    }
   ],
   "source": [
    "my_flattened_data = np.array(my_flattened_data)\n",
    "my_flattened_data.shape"
   ]
  },
  {
   "cell_type": "code",
   "execution_count": 30,
   "metadata": {},
   "outputs": [],
   "source": [
    "#split data\n",
    "from sklearn.model_selection import train_test_split\n",
    "x_train,x_test,y_train,y_test=train_test_split(my_flattened_data,my_labels,test_size=0.2,random_state=123)"
   ]
  },
  {
   "cell_type": "code",
   "execution_count": 40,
   "metadata": {
    "scrolled": false
   },
   "outputs": [
    {
     "name": "stdout",
     "output_type": "stream",
     "text": [
      "(1200, 784)\n",
      "(300, 784)\n",
      "(1200,)\n",
      "(300,)\n"
     ]
    }
   ],
   "source": [
    "print(x_train.shape)\n",
    "print(x_test.shape)\n",
    "print(y_train.shape)\n",
    "print(y_test.shape)"
   ]
  },
  {
   "cell_type": "code",
   "execution_count": 35,
   "metadata": {},
   "outputs": [
    {
     "data": {
      "image/png": "[encoded data removed]",
      "text/plain": [
       "<Figure size 432x288 with 1 Axes>"
      ]
     },
     "metadata": {
      "needs_background": "light"
     },
     "output_type": "display_data"
    }
   ],
   "source": [
    "from sklearn.decomposition import PCA\n",
    "\n",
    "pca_784 = PCA(n_components=784)\n",
    "pca_784.fit(my_flattened_data)\n",
    "\n",
    "plt.grid()\n",
    "plt.plot(np.cumsum(pca_784.explained_variance_ratio_ * 100))\n",
    "plt.xlabel('Number of components')\n",
    "plt.ylabel('Explained variance')\n",
    "plt.savefig('Scree plot.png')"
   ]
  },
  {
   "cell_type": "markdown",
   "metadata": {},
   "source": [
    "For the dimension of projection we will try 10,25 and 50. 10 components to compress the image do not capture much of the variability in the original data. So, we will not get a clear image:\n",
    "#### 10 components:"
   ]
  },
  {
   "cell_type": "code",
   "execution_count": 251,
   "metadata": {},
   "outputs": [
    {
     "data": {
      "text/plain": [
       "<matplotlib.image.AxesImage at 0x24906147e48>"
      ]
     },
     "execution_count": 251,
     "metadata": {},
     "output_type": "execute_result"
    },
    {
     "data": {
      "image/png": "[encoded data removed]",
      "text/plain": [
       "<Figure size 432x288 with 1 Axes>"
      ]
     },
     "metadata": {},
     "output_type": "display_data"
    }
   ],
   "source": [
    "plt.title('Original Image', fontsize=15, pad=15)\n",
    "plt.imshow(x_train[5].reshape([28,28]), cmap =plt.cm.binary)"
   ]
  },
  {
   "cell_type": "code",
   "execution_count": 250,
   "metadata": {},
   "outputs": [
    {
     "data": {
      "text/plain": [
       "Text(0.5, 1.0, 'Image with 10 components')"
      ]
     },
     "execution_count": 250,
     "metadata": {},
     "output_type": "execute_result"
    },
    {
     "data": {
      "image/png": "[encoded data removed]",
      "text/plain": [
       "<Figure size 432x288 with 1 Axes>"
      ]
     },
     "metadata": {},
     "output_type": "display_data"
    }
   ],
   "source": [
    "pca_10 = PCA(n_components=10)\n",
    "mnist_pca_10_reduced_train = pca_10.fit_transform(x_train)\n",
    "mnist_pca_10_reduced_test = pca_10.fit_transform(x_test)\n",
    "\n",
    "\n",
    "mnist_pca_10_recovered_train = pca_10.inverse_transform(mnist_pca_10_reduced_train)\n",
    "mnist_pca_10_recovered_test = pca_10.inverse_transform(mnist_pca_10_reduced_test)\n",
    "\n",
    "\n",
    "#plot an image to check the results\n",
    "image_pca_10 = mnist_pca_10_recovered_train[5].reshape([28,28])\n",
    "plt.imshow(image_pca_10, cmap=plt.cm.binary)\n",
    "plt.title('Image with 10 components', fontsize=15, pad=15)"
   ]
  },
  {
   "cell_type": "markdown",
   "metadata": {},
   "source": [
    "We can see that a lot of details are lost. We will try for bigger projection space:"
   ]
  },
  {
   "cell_type": "code",
   "execution_count": 44,
   "metadata": {},
   "outputs": [
    {
     "data": {
      "text/plain": [
       "(1200, 10)"
      ]
     },
     "execution_count": 44,
     "metadata": {},
     "output_type": "execute_result"
    }
   ],
   "source": [
    "mnist_pca_10_reduced_train.shape"
   ]
  },
  {
   "cell_type": "markdown",
   "metadata": {},
   "source": [
    "#### 25 components"
   ]
  },
  {
   "cell_type": "code",
   "execution_count": 45,
   "metadata": {
    "scrolled": true
   },
   "outputs": [
    {
     "data": {
      "text/plain": [
       "Text(0.5, 1.0, 'Compressed image with 25 components')"
      ]
     },
     "execution_count": 45,
     "metadata": {},
     "output_type": "execute_result"
    },
    {
     "data": {
      "image/png": "[encoded data removed]",
      "text/plain": [
       "<Figure size 432x288 with 1 Axes>"
      ]
     },
     "metadata": {
      "needs_background": "light"
     },
     "output_type": "display_data"
    }
   ],
   "source": [
    "pca_25 = PCA(n_components=25)\n",
    "mnist_pca_25_reduced_train = pca_25.fit_transform(x_train)\n",
    "mnist_pca_25_reduced_test = pca_25.fit_transform(x_test)\n",
    "\n",
    "mnist_pca_25_recovered_train = pca_25.inverse_transform(mnist_pca_25_reduced_train)\n",
    "mnist_pca_25_recovered_test = pca_25.inverse_transform(mnist_pca_25_reduced_test)\n",
    "\n",
    "#plot an image to check the results\n",
    "image_pca_25 = mnist_pca_25_recovered_train[5].reshape([28,28])\n",
    "plt.imshow(image_pca_25, cmap='gray_r')\n",
    "plt.title('Compressed image with 25 components', fontsize=15, pad=15)"
   ]
  },
  {
   "cell_type": "code",
   "execution_count": 46,
   "metadata": {},
   "outputs": [
    {
     "data": {
      "text/plain": [
       "(1200, 25)"
      ]
     },
     "execution_count": 46,
     "metadata": {},
     "output_type": "execute_result"
    }
   ],
   "source": [
    "mnist_pca_25_reduced_train.shape"
   ]
  },
  {
   "cell_type": "markdown",
   "metadata": {},
   "source": [
    "#### 50 components"
   ]
  },
  {
   "cell_type": "code",
   "execution_count": 47,
   "metadata": {},
   "outputs": [
    {
     "data": {
      "text/plain": [
       "Text(0.5, 1.0, 'Compressed image with 50 components')"
      ]
     },
     "execution_count": 47,
     "metadata": {},
     "output_type": "execute_result"
    },
    {
     "data": {
      "image/png": "[encoded data removed]",
      "text/plain": [
       "<Figure size 432x288 with 1 Axes>"
      ]
     },
     "metadata": {
      "needs_background": "light"
     },
     "output_type": "display_data"
    }
   ],
   "source": [
    "pca_50 = PCA(n_components=50)\n",
    "mnist_pca_50_reduced_train = pca_50.fit_transform(x_train)\n",
    "mnist_pca_50_reduced_test = pca_50.fit_transform(x_test)\n",
    "\n",
    "\n",
    "mnist_pca_50_recovered_train = pca_50.inverse_transform(mnist_pca_50_reduced_train)\n",
    "mnist_pca_50_recovered_test = pca_50.inverse_transform(mnist_pca_50_reduced_test)\n",
    "\n",
    "#plot an image to check the results\n",
    "image_pca_50 = mnist_pca_50_recovered_test[5].reshape([28,28])\n",
    "plt.imshow(image_pca_50, cmap='gray_r')\n",
    "plt.title('Compressed image with 50 components', fontsize=15, pad=15)"
   ]
  },
  {
   "cell_type": "markdown",
   "metadata": {},
   "source": [
    "It seems that with 50 components is better as we expected."
   ]
  },
  {
   "cell_type": "code",
   "execution_count": 48,
   "metadata": {},
   "outputs": [
    {
     "data": {
      "text/plain": [
       "(1200, 50)"
      ]
     },
     "execution_count": 48,
     "metadata": {},
     "output_type": "execute_result"
    }
   ],
   "source": [
    "mnist_pca_50_reduced_train.shape"
   ]
  },
  {
   "cell_type": "markdown",
   "metadata": {},
   "source": [
    "## β) Autoencoders"
   ]
  },
  {
   "cell_type": "markdown",
   "metadata": {},
   "source": [
    "An autoencoder is a neural network that attempts to do 2 things: \n",
    "1. First it compress the input data into a lower dimension, \n",
    "2. then it tries to use this lower representation of the data to recreate the original input. \n",
    "The difference between the original input and the recreation is called reconstruction error. By training the network to minimize this error the network finds an efficient lower represantation. \n",
    "1. The first part is the encoder and it's job is to transform the original input into a lower dimensional represantation. \n",
    "2. The second part is the decoder, which attempts to recreate the the original input using the output of the encoder, in other words it tries to recreate a higher dimensional thing using a lower dimensional thing."
   ]
  },
  {
   "cell_type": "markdown",
   "metadata": {},
   "source": [
    "### 50 dimensions"
   ]
  },
  {
   "cell_type": "code",
   "execution_count": 75,
   "metadata": {},
   "outputs": [],
   "source": [
    "import keras\n",
    "from keras import layers\n",
    "\n",
    "encoding_dim_50 = 50  # 50 dimension\n",
    "\n",
    "# The input image\n",
    "input_img_50 = keras.Input(shape=(784,))\n",
    "#encoded representation of the input\n",
    "encoded_50 = layers.Dense(encoding_dim_50, activation='relu')(input_img_50)\n",
    "# reconstruction of the input\n",
    "decoded_50 = layers.Dense(784, activation='sigmoid')(encoded_50)\n",
    "\n",
    "# map an input to its reconstruction\n",
    "autoencoder_50 = keras.Model(input_img_50, decoded_50)"
   ]
  },
  {
   "cell_type": "code",
   "execution_count": 76,
   "metadata": {},
   "outputs": [],
   "source": [
    "#create a separate encoder model\n",
    "\n",
    "# map an input to its encoded representation\n",
    "encoder_50 = keras.Model(input_img_50, encoded_50)"
   ]
  },
  {
   "cell_type": "code",
   "execution_count": 77,
   "metadata": {},
   "outputs": [],
   "source": [
    "#create a separate decoder model\n",
    "\n",
    "# The encoded 50-dimensional input\n",
    "encoded_input_50 = keras.Input(shape=(encoding_dim_50,))\n",
    "# Retrieve the last layer of the autoencoder model\n",
    "decoder_layer_50 = autoencoder_50.layers[-1]\n",
    "# Create the decoder model\n",
    "decoder_50 = keras.Model(encoded_input_50, decoder_layer_50(encoded_input_50))"
   ]
  },
  {
   "cell_type": "code",
   "execution_count": 78,
   "metadata": {},
   "outputs": [],
   "source": [
    "#train the autoencoder to reconstruct the images\n",
    "autoencoder_50.compile(optimizer='adam', loss='binary_crossentropy')"
   ]
  },
  {
   "cell_type": "code",
   "execution_count": 79,
   "metadata": {},
   "outputs": [
    {
     "name": "stdout",
     "output_type": "stream",
     "text": [
      "Epoch 1/40\n",
      "5/5 [==============================] - 26s 1s/step - loss: 0.6905 - val_loss: 0.6733\n",
      "Epoch 2/40\n",
      "5/5 [==============================] - 3s 779ms/step - loss: 0.6644 - val_loss: 0.6280\n",
      "Epoch 3/40\n",
      "5/5 [==============================] - 3s 781ms/step - loss: 0.6157 - val_loss: 0.5761\n",
      "Epoch 4/40\n",
      "5/5 [==============================] - 5s 1s/step - loss: 0.5655 - val_loss: 0.5349\n",
      "Epoch 5/40\n",
      "5/5 [==============================] - 4s 1s/step - loss: 0.5271 - val_loss: 0.5062\n",
      "Epoch 6/40\n",
      "5/5 [==============================] - 5s 1s/step - loss: 0.4977 - val_loss: 0.4851\n",
      "Epoch 7/40\n",
      "5/5 [==============================] - 4s 1s/step - loss: 0.4769 - val_loss: 0.4664\n",
      "Epoch 8/40\n",
      "5/5 [==============================] - 5s 1s/step - loss: 0.4604 - val_loss: 0.4507\n",
      "Epoch 9/40\n",
      "5/5 [==============================] - 4s 1s/step - loss: 0.4438 - val_loss: 0.4374\n",
      "Epoch 10/40\n",
      "5/5 [==============================] - 5s 1s/step - loss: 0.4291 - val_loss: 0.4263\n",
      "Epoch 11/40\n",
      "5/5 [==============================] - 3s 837ms/step - loss: 0.4213 - val_loss: 0.4171\n",
      "Epoch 12/40\n",
      "5/5 [==============================] - 4s 1s/step - loss: 0.4079 - val_loss: 0.4097\n",
      "Epoch 13/40\n",
      "5/5 [==============================] - 6s 2s/step - loss: 0.4067 - val_loss: 0.4033\n",
      "Epoch 14/40\n",
      "5/5 [==============================] - 7s 2s/step - loss: 0.3987 - val_loss: 0.3979\n",
      "Epoch 15/40\n",
      "5/5 [==============================] - 4s 945ms/step - loss: 0.3930 - val_loss: 0.3929\n",
      "Epoch 16/40\n",
      "5/5 [==============================] - 5s 1s/step - loss: 0.3839 - val_loss: 0.3886\n",
      "Epoch 17/40\n",
      "5/5 [==============================] - 4s 1s/step - loss: 0.3834 - val_loss: 0.3845\n",
      "Epoch 18/40\n",
      "5/5 [==============================] - 4s 898ms/step - loss: 0.3784 - val_loss: 0.3809\n",
      "Epoch 19/40\n",
      "5/5 [==============================] - 4s 1s/step - loss: 0.3775 - val_loss: 0.3776\n",
      "Epoch 20/40\n",
      "5/5 [==============================] - 5s 1s/step - loss: 0.3705 - val_loss: 0.3746\n",
      "Epoch 21/40\n",
      "5/5 [==============================] - 4s 1s/step - loss: 0.3673 - val_loss: 0.3720\n",
      "Epoch 22/40\n",
      "5/5 [==============================] - 5s 1s/step - loss: 0.3694 - val_loss: 0.3693\n",
      "Epoch 23/40\n",
      "5/5 [==============================] - 3s 787ms/step - loss: 0.3601 - val_loss: 0.3669\n",
      "Epoch 24/40\n",
      "5/5 [==============================] - 4s 936ms/step - loss: 0.3610 - val_loss: 0.3645\n",
      "Epoch 25/40\n",
      "5/5 [==============================] - 4s 902ms/step - loss: 0.3572 - val_loss: 0.3623\n",
      "Epoch 26/40\n",
      "5/5 [==============================] - 3s 775ms/step - loss: 0.3555 - val_loss: 0.3600\n",
      "Epoch 27/40\n",
      "5/5 [==============================] - 5s 1s/step - loss: 0.3534 - val_loss: 0.3579\n",
      "Epoch 28/40\n",
      "5/5 [==============================] - 3s 711ms/step - loss: 0.3519 - val_loss: 0.3560\n",
      "Epoch 29/40\n",
      "5/5 [==============================] - 3s 792ms/step - loss: 0.3493 - val_loss: 0.3539\n",
      "Epoch 30/40\n",
      "5/5 [==============================] - 3s 784ms/step - loss: 0.3473 - val_loss: 0.3519\n",
      "Epoch 31/40\n",
      "5/5 [==============================] - 5s 1s/step - loss: 0.3455 - val_loss: 0.3501\n",
      "Epoch 32/40\n",
      "5/5 [==============================] - 4s 896ms/step - loss: 0.3419 - val_loss: 0.3485\n",
      "Epoch 33/40\n",
      "5/5 [==============================] - 6s 2s/step - loss: 0.3404 - val_loss: 0.3471\n",
      "Epoch 34/40\n",
      "5/5 [==============================] - 3s 860ms/step - loss: 0.3388 - val_loss: 0.3453\n",
      "Epoch 35/40\n",
      "5/5 [==============================] - 4s 998ms/step - loss: 0.3375 - val_loss: 0.3440\n",
      "Epoch 36/40\n",
      "5/5 [==============================] - 4s 1s/step - loss: 0.3342 - val_loss: 0.3428\n",
      "Epoch 37/40\n",
      "5/5 [==============================] - 3s 825ms/step - loss: 0.3353 - val_loss: 0.3414\n",
      "Epoch 38/40\n",
      "5/5 [==============================] - 5s 1s/step - loss: 0.3313 - val_loss: 0.3408\n",
      "Epoch 39/40\n",
      "5/5 [==============================] - 3s 839ms/step - loss: 0.3314 - val_loss: 0.3394\n",
      "Epoch 40/40\n",
      "5/5 [==============================] - 5s 1s/step - loss: 0.3302 - val_loss: 0.3386\n"
     ]
    },
    {
     "data": {
      "text/plain": [
       "<keras.callbacks.History at 0x249017cfdc8>"
      ]
     },
     "execution_count": 79,
     "metadata": {},
     "output_type": "execute_result"
    }
   ],
   "source": [
    "autoencoder_50.fit(x_train, x_train,\n",
    "                epochs=40,\n",
    "                batch_size=256,\n",
    "                shuffle=True,\n",
    "                validation_data=(x_test, x_test))"
   ]
  },
  {
   "cell_type": "code",
   "execution_count": 80,
   "metadata": {},
   "outputs": [],
   "source": [
    "encoded_imgs_50_train = encoder_50.predict(x_train)\n",
    "encoded_imgs_50_test = encoder_50.predict(x_test)\n",
    "\n",
    "decoded_imgs_50_train = decoder_50.predict(encoded_imgs_50_train)\n",
    "decoded_imgs_50_test = decoder_50.predict(encoded_imgs_50_test)"
   ]
  },
  {
   "cell_type": "code",
   "execution_count": 81,
   "metadata": {},
   "outputs": [
    {
     "data": {
      "text/plain": [
       "(1200, 784)"
      ]
     },
     "execution_count": 81,
     "metadata": {},
     "output_type": "execute_result"
    }
   ],
   "source": [
    "x_train.shape"
   ]
  },
  {
   "cell_type": "code",
   "execution_count": 140,
   "metadata": {},
   "outputs": [
    {
     "data": {
      "text/plain": [
       "(1200, 50)"
      ]
     },
     "execution_count": 140,
     "metadata": {},
     "output_type": "execute_result"
    }
   ],
   "source": [
    "encoded_imgs_50_train.shape"
   ]
  },
  {
   "cell_type": "markdown",
   "metadata": {},
   "source": [
    "We reduced the dimension of each image from 784 to 50. In encoded_imgs_50_train are saved the train data with dimension 50."
   ]
  },
  {
   "cell_type": "code",
   "execution_count": 83,
   "metadata": {
    "scrolled": false
   },
   "outputs": [
    {
     "data": {
      "image/png": "[encoded data removed]",
      "text/plain": [
       "<Figure size 1440x288 with 20 Axes>"
      ]
     },
     "metadata": {
      "needs_background": "light"
     },
     "output_type": "display_data"
    }
   ],
   "source": [
    "#plotting\n",
    "n = 10  \n",
    "plt.figure(figsize=(20, 4))\n",
    "for i in range(n):\n",
    "    # Display original\n",
    "    ax = plt.subplot(2, n, i + 1)\n",
    "    plt.imshow(x_train[i].reshape(28, 28))\n",
    "    plt.gray()\n",
    "    ax.get_xaxis().set_visible(False)\n",
    "    ax.get_yaxis().set_visible(False)\n",
    "\n",
    "    # Display reconstruction\n",
    "    ax = plt.subplot(2, n, i + 1 + n)\n",
    "    plt.imshow(decoded_imgs_50_train[i].reshape(28, 28))\n",
    "    plt.gray()\n",
    "    ax.get_xaxis().set_visible(False)\n",
    "    ax.get_yaxis().set_visible(False)\n",
    "plt.show()"
   ]
  },
  {
   "cell_type": "markdown",
   "metadata": {},
   "source": [
    "### 25 dimensions"
   ]
  },
  {
   "cell_type": "code",
   "execution_count": 84,
   "metadata": {},
   "outputs": [],
   "source": [
    "encoding_dim_25 = 25  # 25 dimension\n",
    "\n",
    "# The input image\n",
    "input_img_25 = keras.Input(shape=(784,))\n",
    "#encoded representation of the input\n",
    "encoded_25 = layers.Dense(encoding_dim_25, activation='relu')(input_img_25)\n",
    "# reconstruction of the input\n",
    "decoded_25 = layers.Dense(784, activation='sigmoid')(encoded_25)\n",
    "\n",
    "# map an input to its reconstruction\n",
    "autoencoder_25 = keras.Model(input_img_25, decoded_25)"
   ]
  },
  {
   "cell_type": "code",
   "execution_count": 85,
   "metadata": {},
   "outputs": [],
   "source": [
    "# map an input to its encoded representation\n",
    "encoder_25 = keras.Model(input_img_25, encoded_25)"
   ]
  },
  {
   "cell_type": "code",
   "execution_count": 86,
   "metadata": {},
   "outputs": [],
   "source": [
    "# The encoded 25-dimensional input\n",
    "encoded_input_25 = keras.Input(shape=(encoding_dim_25,))\n",
    "# Retrieve the last layer of the autoencoder model\n",
    "decoder_layer_25 = autoencoder_25.layers[-1]\n",
    "# Create the decoder model\n",
    "decoder_25 = keras.Model(encoded_input_25, decoder_layer_25(encoded_input_25))"
   ]
  },
  {
   "cell_type": "code",
   "execution_count": 87,
   "metadata": {},
   "outputs": [],
   "source": [
    "#train the autoencoder to reconstruct the images\n",
    "autoencoder_25.compile(optimizer='adam', loss='binary_crossentropy')"
   ]
  },
  {
   "cell_type": "code",
   "execution_count": 88,
   "metadata": {},
   "outputs": [
    {
     "name": "stdout",
     "output_type": "stream",
     "text": [
      "Epoch 1/40\n",
      "5/5 [==============================] - 10s 1s/step - loss: 0.6916 - val_loss: 0.6815\n",
      "Epoch 2/40\n",
      "5/5 [==============================] - 4s 901ms/step - loss: 0.6765 - val_loss: 0.6561\n",
      "Epoch 3/40\n",
      "5/5 [==============================] - 5s 1s/step - loss: 0.6485 - val_loss: 0.6210\n",
      "Epoch 4/40\n",
      "5/5 [==============================] - 5s 1s/step - loss: 0.6122 - val_loss: 0.5846\n",
      "Epoch 5/40\n",
      "5/5 [==============================] - 4s 1s/step - loss: 0.5767 - val_loss: 0.5546\n",
      "Epoch 6/40\n",
      "5/5 [==============================] - 6s 2s/step - loss: 0.5476 - val_loss: 0.5328\n",
      "Epoch 7/40\n",
      "5/5 [==============================] - 6s 1s/step - loss: 0.5291 - val_loss: 0.5172\n",
      "Epoch 8/40\n",
      "5/5 [==============================] - 4s 1s/step - loss: 0.5155 - val_loss: 0.5044\n",
      "Epoch 9/40\n",
      "5/5 [==============================] - 4s 1s/step - loss: 0.4994 - val_loss: 0.4919\n",
      "Epoch 10/40\n",
      "5/5 [==============================] - 6s 1s/step - loss: 0.4888 - val_loss: 0.4795\n",
      "Epoch 11/40\n",
      "5/5 [==============================] - 6s 2s/step - loss: 0.4765 - val_loss: 0.4676\n",
      "Epoch 12/40\n",
      "5/5 [==============================] - 6s 1s/step - loss: 0.4622 - val_loss: 0.4561\n",
      "Epoch 13/40\n",
      "5/5 [==============================] - 6s 1s/step - loss: 0.4493 - val_loss: 0.4459\n",
      "Epoch 14/40\n",
      "5/5 [==============================] - 5s 1s/step - loss: 0.4416 - val_loss: 0.4369\n",
      "Epoch 15/40\n",
      "5/5 [==============================] - 5s 1s/step - loss: 0.4352 - val_loss: 0.4291\n",
      "Epoch 16/40\n",
      "5/5 [==============================] - 5s 1s/step - loss: 0.4227 - val_loss: 0.4227\n",
      "Epoch 17/40\n",
      "5/5 [==============================] - 5s 1s/step - loss: 0.4175 - val_loss: 0.4171\n",
      "Epoch 18/40\n",
      "5/5 [==============================] - 5s 1s/step - loss: 0.4135 - val_loss: 0.4126\n",
      "Epoch 19/40\n",
      "5/5 [==============================] - 6s 1s/step - loss: 0.4087 - val_loss: 0.4084\n",
      "Epoch 20/40\n",
      "5/5 [==============================] - 7s 2s/step - loss: 0.4037 - val_loss: 0.4048\n",
      "Epoch 21/40\n",
      "5/5 [==============================] - 5s 1s/step - loss: 0.3993 - val_loss: 0.4011\n",
      "Epoch 22/40\n",
      "5/5 [==============================] - 5s 1s/step - loss: 0.3933 - val_loss: 0.3976\n",
      "Epoch 23/40\n",
      "5/5 [==============================] - 5s 1s/step - loss: 0.3915 - val_loss: 0.3943\n",
      "Epoch 24/40\n",
      "5/5 [==============================] - 4s 1s/step - loss: 0.3921 - val_loss: 0.3912\n",
      "Epoch 25/40\n",
      "5/5 [==============================] - 5s 1s/step - loss: 0.3848 - val_loss: 0.3882\n",
      "Epoch 26/40\n",
      "5/5 [==============================] - 5s 1s/step - loss: 0.3865 - val_loss: 0.3855\n",
      "Epoch 27/40\n",
      "5/5 [==============================] - 5s 1s/step - loss: 0.3799 - val_loss: 0.3830\n",
      "Epoch 28/40\n",
      "5/5 [==============================] - 6s 2s/step - loss: 0.3744 - val_loss: 0.3806\n",
      "Epoch 29/40\n",
      "5/5 [==============================] - 5s 1s/step - loss: 0.3764 - val_loss: 0.3783\n",
      "Epoch 30/40\n",
      "5/5 [==============================] - 4s 924ms/step - loss: 0.3727 - val_loss: 0.3762\n",
      "Epoch 31/40\n",
      "5/5 [==============================] - 4s 1s/step - loss: 0.3664 - val_loss: 0.3742\n",
      "Epoch 32/40\n",
      "5/5 [==============================] - 6s 1s/step - loss: 0.3681 - val_loss: 0.3722\n",
      "Epoch 33/40\n",
      "5/5 [==============================] - 4s 1s/step - loss: 0.3611 - val_loss: 0.3703\n",
      "Epoch 34/40\n",
      "5/5 [==============================] - 5s 1s/step - loss: 0.3608 - val_loss: 0.3685\n",
      "Epoch 35/40\n",
      "5/5 [==============================] - 5s 1s/step - loss: 0.3636 - val_loss: 0.3665\n",
      "Epoch 36/40\n",
      "5/5 [==============================] - 6s 1s/step - loss: 0.3592 - val_loss: 0.3646\n",
      "Epoch 37/40\n",
      "5/5 [==============================] - 7s 2s/step - loss: 0.3559 - val_loss: 0.3629\n",
      "Epoch 38/40\n",
      "5/5 [==============================] - 5s 1s/step - loss: 0.3589 - val_loss: 0.3611\n",
      "Epoch 39/40\n",
      "5/5 [==============================] - 5s 1s/step - loss: 0.3514 - val_loss: 0.3594\n",
      "Epoch 40/40\n",
      "5/5 [==============================] - 5s 1s/step - loss: 0.3528 - val_loss: 0.3579\n"
     ]
    },
    {
     "data": {
      "text/plain": [
       "<keras.callbacks.History at 0x24903de8cc8>"
      ]
     },
     "execution_count": 88,
     "metadata": {},
     "output_type": "execute_result"
    }
   ],
   "source": [
    "autoencoder_25.fit(x_train, x_train,\n",
    "                epochs=40,\n",
    "                batch_size=256,\n",
    "                shuffle=True,\n",
    "                validation_data=(x_test, x_test))"
   ]
  },
  {
   "cell_type": "code",
   "execution_count": 89,
   "metadata": {},
   "outputs": [],
   "source": [
    "encoded_imgs_25_train = encoder_25.predict(x_train)\n",
    "encoded_imgs_25_test = encoder_25.predict(x_test)\n",
    "\n",
    "decoded_imgs_25_train = decoder_25.predict(encoded_imgs_25_train)\n",
    "decoded_imgs_25_test = decoder_25.predict(encoded_imgs_25_test)"
   ]
  },
  {
   "cell_type": "code",
   "execution_count": 90,
   "metadata": {},
   "outputs": [
    {
     "data": {
      "text/plain": [
       "(1200, 784)"
      ]
     },
     "execution_count": 90,
     "metadata": {},
     "output_type": "execute_result"
    }
   ],
   "source": [
    "x_train.shape"
   ]
  },
  {
   "cell_type": "code",
   "execution_count": 91,
   "metadata": {},
   "outputs": [
    {
     "data": {
      "text/plain": [
       "(1200, 25)"
      ]
     },
     "execution_count": 91,
     "metadata": {},
     "output_type": "execute_result"
    }
   ],
   "source": [
    "encoded_imgs_25_train.shape"
   ]
  },
  {
   "cell_type": "code",
   "execution_count": 92,
   "metadata": {},
   "outputs": [
    {
     "data": {
      "text/plain": [
       "(1200,)"
      ]
     },
     "execution_count": 92,
     "metadata": {},
     "output_type": "execute_result"
    }
   ],
   "source": [
    "y_train.shape"
   ]
  },
  {
   "cell_type": "markdown",
   "metadata": {},
   "source": [
    "We reduced the dimension of each image from 784 to 25. In encoded_imgs_25_train are saved the train data with dimension 25."
   ]
  },
  {
   "cell_type": "code",
   "execution_count": 93,
   "metadata": {
    "scrolled": true
   },
   "outputs": [
    {
     "data": {
      "image/png": "[encoded data removed]",
      "text/plain": [
       "<Figure size 1440x288 with 20 Axes>"
      ]
     },
     "metadata": {
      "needs_background": "light"
     },
     "output_type": "display_data"
    }
   ],
   "source": [
    "#plotting\n",
    "n = 10  \n",
    "plt.figure(figsize=(20, 4))\n",
    "for i in range(n):\n",
    "    # Display original\n",
    "    ax = plt.subplot(2, n, i + 1)\n",
    "    plt.imshow(x_train[i].reshape(28, 28))\n",
    "    plt.gray()\n",
    "    ax.get_xaxis().set_visible(False)\n",
    "    ax.get_yaxis().set_visible(False)\n",
    "\n",
    "    # Display reconstruction\n",
    "    ax = plt.subplot(2, n, i + 1 + n)\n",
    "    plt.imshow(decoded_imgs_25_train[i].reshape(28, 28))\n",
    "    plt.gray()\n",
    "    ax.get_xaxis().set_visible(False)\n",
    "    ax.get_yaxis().set_visible(False)\n",
    "plt.show()"
   ]
  },
  {
   "cell_type": "markdown",
   "metadata": {},
   "source": [
    "### 10 dimensions"
   ]
  },
  {
   "cell_type": "code",
   "execution_count": 94,
   "metadata": {},
   "outputs": [],
   "source": [
    "encoding_dim_10 = 10  # 10 dimension\n",
    "\n",
    "# The input image\n",
    "input_img_10 = keras.Input(shape=(784,))\n",
    "#encoded representation of the input\n",
    "encoded_10 = layers.Dense(encoding_dim_10, activation='relu')(input_img_10)\n",
    "# reconstruction of the input\n",
    "decoded_10 = layers.Dense(784, activation='sigmoid')(encoded_10)\n",
    "\n",
    "# map an input to its reconstruction\n",
    "autoencoder_10 = keras.Model(input_img_10, decoded_10)"
   ]
  },
  {
   "cell_type": "code",
   "execution_count": 95,
   "metadata": {},
   "outputs": [],
   "source": [
    "# map an input to its encoded representation\n",
    "encoder_10 = keras.Model(input_img_10, encoded_10)"
   ]
  },
  {
   "cell_type": "code",
   "execution_count": 96,
   "metadata": {},
   "outputs": [],
   "source": [
    "# The encoded 25-dimensional input\n",
    "encoded_input_10 = keras.Input(shape=(encoding_dim_10,))\n",
    "# Retrieve the last layer of the autoencoder model\n",
    "decoder_layer_10 = autoencoder_10.layers[-1]\n",
    "# Create the decoder model\n",
    "decoder_10 = keras.Model(encoded_input_10, decoder_layer_10(encoded_input_10))"
   ]
  },
  {
   "cell_type": "code",
   "execution_count": 97,
   "metadata": {},
   "outputs": [],
   "source": [
    "#train the autoencoder to reconstruct the images\n",
    "autoencoder_10.compile(optimizer='adam', loss='binary_crossentropy')"
   ]
  },
  {
   "cell_type": "code",
   "execution_count": 98,
   "metadata": {},
   "outputs": [
    {
     "name": "stdout",
     "output_type": "stream",
     "text": [
      "Epoch 1/40\n",
      "5/5 [==============================] - 10s 1s/step - loss: 0.6926 - val_loss: 0.6886\n",
      "Epoch 2/40\n",
      "5/5 [==============================] - 5s 1s/step - loss: 0.6864 - val_loss: 0.6770\n",
      "Epoch 3/40\n",
      "5/5 [==============================] - 5s 1s/step - loss: 0.6731 - val_loss: 0.6575\n",
      "Epoch 4/40\n",
      "5/5 [==============================] - 4s 1s/step - loss: 0.6518 - val_loss: 0.6311\n",
      "Epoch 5/40\n",
      "5/5 [==============================] - 4s 1s/step - loss: 0.6249 - val_loss: 0.6013\n",
      "Epoch 6/40\n",
      "5/5 [==============================] - 4s 950ms/step - loss: 0.5944 - val_loss: 0.5725\n",
      "Epoch 7/40\n",
      "5/5 [==============================] - 4s 917ms/step - loss: 0.5674 - val_loss: 0.5482\n",
      "Epoch 8/40\n",
      "5/5 [==============================] - 3s 832ms/step - loss: 0.5428 - val_loss: 0.5301\n",
      "Epoch 9/40\n",
      "5/5 [==============================] - 4s 1s/step - loss: 0.5276 - val_loss: 0.5167\n",
      "Epoch 10/40\n",
      "5/5 [==============================] - 3s 846ms/step - loss: 0.5141 - val_loss: 0.5060\n",
      "Epoch 11/40\n",
      "5/5 [==============================] - 3s 792ms/step - loss: 0.5012 - val_loss: 0.4964\n",
      "Epoch 12/40\n",
      "5/5 [==============================] - 4s 976ms/step - loss: 0.4934 - val_loss: 0.4876\n",
      "Epoch 13/40\n",
      "5/5 [==============================] - 4s 969ms/step - loss: 0.4871 - val_loss: 0.4796\n",
      "Epoch 14/40\n",
      "5/5 [==============================] - 4s 892ms/step - loss: 0.4773 - val_loss: 0.4723\n",
      "Epoch 15/40\n",
      "5/5 [==============================] - 4s 1s/step - loss: 0.4707 - val_loss: 0.4656\n",
      "Epoch 16/40\n",
      "5/5 [==============================] - 6s 2s/step - loss: 0.4643 - val_loss: 0.4594\n",
      "Epoch 17/40\n",
      "5/5 [==============================] - 6s 2s/step - loss: 0.4557 - val_loss: 0.4537\n",
      "Epoch 18/40\n",
      "5/5 [==============================] - 3s 756ms/step - loss: 0.4520 - val_loss: 0.4482\n",
      "Epoch 19/40\n",
      "5/5 [==============================] - 3s 823ms/step - loss: 0.4453 - val_loss: 0.4432\n",
      "Epoch 20/40\n",
      "5/5 [==============================] - 6s 2s/step - loss: 0.4408 - val_loss: 0.4384\n",
      "Epoch 21/40\n",
      "5/5 [==============================] - 4s 953ms/step - loss: 0.4384 - val_loss: 0.4338\n",
      "Epoch 22/40\n",
      "5/5 [==============================] - 4s 1s/step - loss: 0.4288 - val_loss: 0.4293\n",
      "Epoch 23/40\n",
      "5/5 [==============================] - 4s 1s/step - loss: 0.4247 - val_loss: 0.4250\n",
      "Epoch 24/40\n",
      "5/5 [==============================] - 5s 1s/step - loss: 0.4204 - val_loss: 0.4210\n",
      "Epoch 25/40\n",
      "5/5 [==============================] - 4s 1s/step - loss: 0.4189 - val_loss: 0.4172\n",
      "Epoch 26/40\n",
      "5/5 [==============================] - 4s 1s/step - loss: 0.4127 - val_loss: 0.4137\n",
      "Epoch 27/40\n",
      "5/5 [==============================] - 5s 1s/step - loss: 0.4082 - val_loss: 0.4105\n",
      "Epoch 28/40\n",
      "5/5 [==============================] - 4s 991ms/step - loss: 0.4104 - val_loss: 0.4076\n",
      "Epoch 29/40\n",
      "5/5 [==============================] - 4s 982ms/step - loss: 0.4010 - val_loss: 0.4049\n",
      "Epoch 30/40\n",
      "5/5 [==============================] - 5s 1s/step - loss: 0.3989 - val_loss: 0.4024\n",
      "Epoch 31/40\n",
      "5/5 [==============================] - 6s 1s/step - loss: 0.3975 - val_loss: 0.4001\n",
      "Epoch 32/40\n",
      "5/5 [==============================] - 4s 1s/step - loss: 0.3988 - val_loss: 0.3980\n",
      "Epoch 33/40\n",
      "5/5 [==============================] - 4s 939ms/step - loss: 0.3927 - val_loss: 0.3959\n",
      "Epoch 34/40\n",
      "5/5 [==============================] - 4s 1s/step - loss: 0.3920 - val_loss: 0.3941\n",
      "Epoch 35/40\n",
      "5/5 [==============================] - 5s 1s/step - loss: 0.3875 - val_loss: 0.3923\n",
      "Epoch 36/40\n",
      "5/5 [==============================] - 4s 906ms/step - loss: 0.3895 - val_loss: 0.3907\n",
      "Epoch 37/40\n",
      "5/5 [==============================] - 5s 1s/step - loss: 0.3914 - val_loss: 0.3891\n",
      "Epoch 38/40\n",
      "5/5 [==============================] - 4s 1s/step - loss: 0.3847 - val_loss: 0.3877\n",
      "Epoch 39/40\n",
      "5/5 [==============================] - 6s 2s/step - loss: 0.3822 - val_loss: 0.3864\n",
      "Epoch 40/40\n",
      "5/5 [==============================] - 4s 1s/step - loss: 0.3808 - val_loss: 0.3850\n"
     ]
    },
    {
     "data": {
      "text/plain": [
       "<keras.callbacks.History at 0x2490773e348>"
      ]
     },
     "execution_count": 98,
     "metadata": {},
     "output_type": "execute_result"
    }
   ],
   "source": [
    "autoencoder_10.fit(x_train, x_train,\n",
    "                epochs=40,\n",
    "                batch_size=256,\n",
    "                shuffle=True,\n",
    "                validation_data=(x_test, x_test))"
   ]
  },
  {
   "cell_type": "code",
   "execution_count": 99,
   "metadata": {},
   "outputs": [],
   "source": [
    "encoded_imgs_10_train = encoder_10.predict(x_train)\n",
    "encoded_imgs_10_test = encoder_10.predict(x_test)\n",
    "\n",
    "decoded_imgs_10_train = decoder_10.predict(encoded_imgs_10_train)\n",
    "decoded_imgs_10_test = decoder_10.predict(encoded_imgs_10_test)"
   ]
  },
  {
   "cell_type": "code",
   "execution_count": 100,
   "metadata": {},
   "outputs": [
    {
     "data": {
      "text/plain": [
       "(1200, 784)"
      ]
     },
     "execution_count": 100,
     "metadata": {},
     "output_type": "execute_result"
    }
   ],
   "source": [
    "x_train.shape"
   ]
  },
  {
   "cell_type": "code",
   "execution_count": 101,
   "metadata": {},
   "outputs": [
    {
     "data": {
      "text/plain": [
       "(1200, 10)"
      ]
     },
     "execution_count": 101,
     "metadata": {},
     "output_type": "execute_result"
    }
   ],
   "source": [
    "encoded_imgs_10_train.shape"
   ]
  },
  {
   "cell_type": "code",
   "execution_count": 103,
   "metadata": {
    "scrolled": true
   },
   "outputs": [
    {
     "data": {
      "image/png": "[encoded data removed]",
      "text/plain": [
       "<Figure size 1440x288 with 20 Axes>"
      ]
     },
     "metadata": {
      "needs_background": "light"
     },
     "output_type": "display_data"
    }
   ],
   "source": [
    "#plotting\n",
    "n = 10  \n",
    "plt.figure(figsize=(20, 4))\n",
    "for i in range(n):\n",
    "    # Display original\n",
    "    ax = plt.subplot(2, n, i + 1)\n",
    "    plt.imshow(x_train[i].reshape(28, 28))\n",
    "    plt.gray()\n",
    "    ax.get_xaxis().set_visible(False)\n",
    "    ax.get_yaxis().set_visible(False)\n",
    "\n",
    "    # Display reconstruction\n",
    "    ax = plt.subplot(2, n, i + 1 + n)\n",
    "    plt.imshow(decoded_imgs_10_train[i].reshape(28, 28))\n",
    "    plt.gray()\n",
    "    ax.get_xaxis().set_visible(False)\n",
    "    ax.get_yaxis().set_visible(False)\n",
    "plt.show()"
   ]
  },
  {
   "cell_type": "markdown",
   "metadata": {},
   "source": [
    "## γ) KNN for 6 datasets"
   ]
  },
  {
   "cell_type": "markdown",
   "metadata": {},
   "source": [
    "### pca_10"
   ]
  },
  {
   "cell_type": "code",
   "execution_count": 113,
   "metadata": {},
   "outputs": [
    {
     "name": "stdout",
     "output_type": "stream",
     "text": [
      "[0.7475, 0.7141666666666666, 0.7375, 0.735, 0.7475, 0.7375, 0.74, 0.7366666666666667, 0.7433333333333333, 0.7416666666666667, 0.7366666666666667, 0.7375, 0.7425, 0.7341666666666666, 0.73, 0.725, 0.715, 0.7225, 0.7241666666666666, 0.7275, 0.7266666666666667, 0.7283333333333334, 0.7233333333333334, 0.7266666666666667, 0.7275, 0.7258333333333333, 0.7291666666666666, 0.7325, 0.7291666666666666]\n"
     ]
    }
   ],
   "source": [
    "from sklearn.model_selection import cross_val_score\n",
    "k_range = range(1, 30)\n",
    "\n",
    "# list of scores from k_range\n",
    "k_scores = []\n",
    "cv = LeaveOneOut()\n",
    "\n",
    "for k in k_range:\n",
    "    # 2. run KNeighborsClassifier with k neighbours\n",
    "    knn = KNeighborsClassifier(n_neighbors=k)\n",
    "    # 3. obtain cross_val_score for KNeighborsClassifier with k neighbours\n",
    "    scores = cross_val_score(knn, mnist_pca_10_reduced_train, y_train, cv=cv, scoring='accuracy')\n",
    "    # 4. append mean of scores for k neighbors to k_scores list\n",
    "    k_scores.append(scores.mean())\n",
    "print(k_scores)"
   ]
  },
  {
   "cell_type": "markdown",
   "metadata": {},
   "source": [
    "I keep the k=1 as it has the biggest accuracy. Let us pick this k value and tain or model."
   ]
  },
  {
   "cell_type": "code",
   "execution_count": 114,
   "metadata": {
    "scrolled": true
   },
   "outputs": [
    {
     "name": "stdout",
     "output_type": "stream",
     "text": [
      "              precision    recall  f1-score   support\n",
      "\n",
      "           0       0.78      0.83      0.81        30\n",
      "           1       0.75      0.81      0.78        26\n",
      "           2       0.48      0.48      0.48        29\n",
      "           3       0.72      0.72      0.72        32\n",
      "           4       0.55      0.79      0.65        29\n",
      "           5       0.71      0.81      0.76        27\n",
      "           6       0.25      0.13      0.17        30\n",
      "           7       0.83      0.81      0.82        31\n",
      "           8       0.87      0.81      0.84        32\n",
      "           9       0.93      0.82      0.87        34\n",
      "\n",
      "    accuracy                           0.70       300\n",
      "   macro avg       0.69      0.70      0.69       300\n",
      "weighted avg       0.69      0.70      0.69       300\n",
      "\n",
      "0.7033333333333334\n"
     ]
    }
   ],
   "source": [
    "model = KNeighborsClassifier(n_neighbors=12)\n",
    "model.fit(mnist_pca_10_reduced_train,y_train)\n",
    "predictions_pca10 = model.predict(mnist_pca_10_reduced_test)\n",
    "\n",
    "print(classification_report(y_test,predictions_pca10))\n",
    "print(accuracy_score(y_test, predictions_pca10))"
   ]
  },
  {
   "cell_type": "code",
   "execution_count": 125,
   "metadata": {},
   "outputs": [
    {
     "data": {
      "text/plain": [
       "0.7033333333333334"
      ]
     },
     "execution_count": 125,
     "metadata": {},
     "output_type": "execute_result"
    }
   ],
   "source": [
    "acc_pca10 =accuracy_score(y_test, predictions_pca10)\n",
    "acc_pca10"
   ]
  },
  {
   "cell_type": "markdown",
   "metadata": {},
   "source": [
    "### pca_25"
   ]
  },
  {
   "cell_type": "code",
   "execution_count": 115,
   "metadata": {},
   "outputs": [
    {
     "name": "stdout",
     "output_type": "stream",
     "text": [
      "[0.7666666666666667, 0.7541666666666667, 0.7725, 0.7833333333333333, 0.77, 0.7758333333333334, 0.775, 0.765, 0.7633333333333333, 0.7608333333333334, 0.7558333333333334, 0.7566666666666667, 0.7525, 0.7525, 0.7583333333333333, 0.7525, 0.7558333333333334, 0.7541666666666667, 0.7491666666666666, 0.7466666666666667, 0.7441666666666666, 0.7458333333333333, 0.7458333333333333, 0.745, 0.7391666666666666, 0.7458333333333333, 0.7408333333333333, 0.7408333333333333, 0.7416666666666667]\n"
     ]
    }
   ],
   "source": [
    "k_range = range(1, 30)\n",
    "\n",
    "# list of scores from k_range\n",
    "k_scores = []\n",
    "cv = LeaveOneOut()\n",
    "\n",
    "for k in k_range:\n",
    "    # 2. run KNeighborsClassifier with k neighbours\n",
    "    knn = KNeighborsClassifier(n_neighbors=k)\n",
    "    # 3. obtain cross_val_score for KNeighborsClassifier with k neighbours\n",
    "    scores = cross_val_score(knn, mnist_pca_25_reduced_train, y_train, cv=cv, scoring='accuracy')\n",
    "    # 4. append mean of scores for k neighbors to k_scores list\n",
    "    k_scores.append(scores.mean())\n",
    "print(k_scores)"
   ]
  },
  {
   "cell_type": "markdown",
   "metadata": {},
   "source": [
    "I keep the value k=4 as it has the biggest accuracy. Let us pick this k value and tain or model."
   ]
  },
  {
   "cell_type": "code",
   "execution_count": 116,
   "metadata": {
    "scrolled": true
   },
   "outputs": [
    {
     "name": "stdout",
     "output_type": "stream",
     "text": [
      "              precision    recall  f1-score   support\n",
      "\n",
      "           0       0.58      0.87      0.69        30\n",
      "           1       0.79      0.85      0.81        26\n",
      "           2       0.48      0.55      0.52        29\n",
      "           3       0.65      0.41      0.50        32\n",
      "           4       0.62      0.79      0.70        29\n",
      "           5       0.66      0.70      0.68        27\n",
      "           6       0.41      0.23      0.30        30\n",
      "           7       0.76      0.81      0.78        31\n",
      "           8       0.89      0.78      0.83        32\n",
      "           9       0.97      0.85      0.91        34\n",
      "\n",
      "    accuracy                           0.68       300\n",
      "   macro avg       0.68      0.68      0.67       300\n",
      "weighted avg       0.69      0.68      0.67       300\n",
      "\n",
      "0.6833333333333333\n"
     ]
    }
   ],
   "source": [
    "model = KNeighborsClassifier(n_neighbors=4)\n",
    "model.fit(mnist_pca_25_reduced_train,y_train)\n",
    "predictions_pca25 = model.predict(mnist_pca_25_reduced_test)\n",
    "\n",
    "print(classification_report(y_test,predictions_pca25))\n",
    "print(accuracy_score(y_test, predictions_pca25))"
   ]
  },
  {
   "cell_type": "code",
   "execution_count": 126,
   "metadata": {},
   "outputs": [
    {
     "data": {
      "text/plain": [
       "0.6833333333333333"
      ]
     },
     "execution_count": 126,
     "metadata": {},
     "output_type": "execute_result"
    }
   ],
   "source": [
    "acc_pca25 =accuracy_score(y_test, predictions_pca25)\n",
    "acc_pca25"
   ]
  },
  {
   "cell_type": "markdown",
   "metadata": {},
   "source": [
    "### pca_50"
   ]
  },
  {
   "cell_type": "code",
   "execution_count": 117,
   "metadata": {},
   "outputs": [
    {
     "name": "stdout",
     "output_type": "stream",
     "text": [
      "[0.78, 0.7675, 0.79, 0.7808333333333334, 0.7741666666666667, 0.7841666666666667, 0.7791666666666667, 0.7766666666666666, 0.7808333333333334, 0.7816666666666666, 0.7758333333333334, 0.7758333333333334, 0.7741666666666667, 0.7675, 0.7566666666666667, 0.7641666666666667, 0.7675, 0.7708333333333334, 0.76, 0.7558333333333334, 0.7516666666666667, 0.75, 0.7491666666666666, 0.7508333333333334, 0.75, 0.7508333333333334, 0.75, 0.7525, 0.7533333333333333]\n"
     ]
    }
   ],
   "source": [
    "k_range = range(1, 30)\n",
    "\n",
    "# list of scores from k_range\n",
    "k_scores = []\n",
    "cv = LeaveOneOut()\n",
    "\n",
    "for k in k_range:\n",
    "    # 2. run KNeighborsClassifier with k neighbours\n",
    "    knn = KNeighborsClassifier(n_neighbors=k)\n",
    "    # 3. obtain cross_val_score for KNeighborsClassifier with k neighbours\n",
    "    scores = cross_val_score(knn, mnist_pca_50_reduced_train, y_train, cv=cv, scoring='accuracy')\n",
    "    # 4. append mean of scores for k neighbors to k_scores list\n",
    "    k_scores.append(scores.mean())\n",
    "print(k_scores)"
   ]
  },
  {
   "cell_type": "markdown",
   "metadata": {},
   "source": [
    "I keep the value k=2 as it has the biggest accuracy. Let us pick this k value and tain or model."
   ]
  },
  {
   "cell_type": "code",
   "execution_count": 118,
   "metadata": {
    "scrolled": false
   },
   "outputs": [
    {
     "name": "stdout",
     "output_type": "stream",
     "text": [
      "              precision    recall  f1-score   support\n",
      "\n",
      "           0       0.54      0.90      0.68        30\n",
      "           1       0.75      0.81      0.78        26\n",
      "           2       0.41      0.48      0.44        29\n",
      "           3       0.53      0.28      0.37        32\n",
      "           4       0.53      0.79      0.64        29\n",
      "           5       0.63      0.44      0.52        27\n",
      "           6       0.33      0.10      0.15        30\n",
      "           7       0.57      0.87      0.69        31\n",
      "           8       0.87      0.81      0.84        32\n",
      "           9       0.96      0.65      0.77        34\n",
      "\n",
      "    accuracy                           0.61       300\n",
      "   macro avg       0.61      0.61      0.59       300\n",
      "weighted avg       0.62      0.61      0.59       300\n",
      "\n",
      "0.6133333333333333\n"
     ]
    }
   ],
   "source": [
    "model = KNeighborsClassifier(n_neighbors=2)\n",
    "model.fit(mnist_pca_50_reduced_train,y_train)\n",
    "predictions_pca50 = model.predict(mnist_pca_50_reduced_test)\n",
    "\n",
    "print(classification_report(y_test,predictions_pca50))\n",
    "print(accuracy_score(y_test, predictions_pca50))"
   ]
  },
  {
   "cell_type": "code",
   "execution_count": 127,
   "metadata": {},
   "outputs": [
    {
     "data": {
      "text/plain": [
       "0.6133333333333333"
      ]
     },
     "execution_count": 127,
     "metadata": {},
     "output_type": "execute_result"
    }
   ],
   "source": [
    "acc_pca50 =accuracy_score(y_test, predictions_pca50)\n",
    "acc_pca50"
   ]
  },
  {
   "cell_type": "markdown",
   "metadata": {},
   "source": [
    "### autoencoder_10"
   ]
  },
  {
   "cell_type": "code",
   "execution_count": 119,
   "metadata": {},
   "outputs": [
    {
     "name": "stdout",
     "output_type": "stream",
     "text": [
      "[0.6658333333333334, 0.6525, 0.6783333333333333, 0.655, 0.685, 0.6691666666666667, 0.665, 0.6591666666666667, 0.6683333333333333]\n"
     ]
    }
   ],
   "source": [
    "k_range = range(1, 10)\n",
    "\n",
    "# list of scores from k_range\n",
    "k_scores = []\n",
    "cv = LeaveOneOut()\n",
    "\n",
    "for k in k_range:\n",
    "    # 2. run KNeighborsClassifier with k neighbours\n",
    "    knn = KNeighborsClassifier(n_neighbors=k)\n",
    "    # 3. obtain cross_val_score for KNeighborsClassifier with k neighbours\n",
    "    scores = cross_val_score(knn, encoded_imgs_10_train, y_train, cv=cv, scoring='accuracy')\n",
    "    # 4. append mean of scores for k neighbors to k_scores list\n",
    "    k_scores.append(scores.mean())\n",
    "print(k_scores)"
   ]
  },
  {
   "cell_type": "markdown",
   "metadata": {},
   "source": [
    "I keep the value k=3 as it has the biggest accuracy. Let us pick this k value and tain or model."
   ]
  },
  {
   "cell_type": "code",
   "execution_count": 120,
   "metadata": {
    "scrolled": false
   },
   "outputs": [
    {
     "name": "stdout",
     "output_type": "stream",
     "text": [
      "              precision    recall  f1-score   support\n",
      "\n",
      "           0       0.57      0.80      0.67        30\n",
      "           1       0.89      0.92      0.91        26\n",
      "           2       0.52      0.48      0.50        29\n",
      "           3       0.59      0.62      0.61        32\n",
      "           4       0.57      0.59      0.58        29\n",
      "           5       0.64      0.78      0.70        27\n",
      "           6       0.48      0.37      0.42        30\n",
      "           7       0.83      0.65      0.73        31\n",
      "           8       0.88      0.72      0.79        32\n",
      "           9       0.85      0.85      0.85        34\n",
      "\n",
      "    accuracy                           0.68       300\n",
      "   macro avg       0.68      0.68      0.67       300\n",
      "weighted avg       0.68      0.68      0.67       300\n",
      "\n",
      "0.6766666666666666\n"
     ]
    }
   ],
   "source": [
    "model = KNeighborsClassifier(n_neighbors=4)\n",
    "model.fit(encoded_imgs_10_train,y_train)\n",
    "predictions_autoencoder10 = model.predict(encoded_imgs_10_test)\n",
    "\n",
    "print(classification_report(y_test,predictions_autoencoder10))\n",
    "print(accuracy_score(y_test, predictions_autoencoder10))"
   ]
  },
  {
   "cell_type": "code",
   "execution_count": 128,
   "metadata": {},
   "outputs": [
    {
     "data": {
      "text/plain": [
       "0.6766666666666666"
      ]
     },
     "execution_count": 128,
     "metadata": {},
     "output_type": "execute_result"
    }
   ],
   "source": [
    "acc_autoencoder10 =accuracy_score(y_test, predictions_autoencoder10)\n",
    "acc_autoencoder10"
   ]
  },
  {
   "cell_type": "markdown",
   "metadata": {},
   "source": [
    "### autoencoder_25"
   ]
  },
  {
   "cell_type": "code",
   "execution_count": 121,
   "metadata": {},
   "outputs": [
    {
     "name": "stdout",
     "output_type": "stream",
     "text": [
      "[0.71, 0.6916666666666667, 0.7075, 0.7158333333333333, 0.7175, 0.7125, 0.7041666666666667, 0.7041666666666667, 0.7075]\n"
     ]
    }
   ],
   "source": [
    "k_range = range(1, 10)\n",
    "\n",
    "# list of scores from k_range\n",
    "k_scores = []\n",
    "cv = LeaveOneOut()\n",
    "\n",
    "for k in k_range:\n",
    "    # 2. run KNeighborsClassifier with k neighbours\n",
    "    knn = KNeighborsClassifier(n_neighbors=k)\n",
    "    # 3. obtain cross_val_score for KNeighborsClassifier with k neighbours\n",
    "    scores = cross_val_score(knn, encoded_imgs_25_train, y_train, cv=cv, scoring='accuracy')\n",
    "    # 4. append mean of scores for k neighbors to k_scores list\n",
    "    k_scores.append(scores.mean())\n",
    "print(k_scores)"
   ]
  },
  {
   "cell_type": "markdown",
   "metadata": {},
   "source": [
    "I keep the value k=5 as it has the biggest accuracy. Let us pick this k value and tain or model."
   ]
  },
  {
   "cell_type": "code",
   "execution_count": 122,
   "metadata": {
    "scrolled": false
   },
   "outputs": [
    {
     "name": "stdout",
     "output_type": "stream",
     "text": [
      "              precision    recall  f1-score   support\n",
      "\n",
      "           0       0.60      0.80      0.69        30\n",
      "           1       0.89      0.96      0.93        26\n",
      "           2       0.54      0.66      0.59        29\n",
      "           3       0.66      0.59      0.62        32\n",
      "           4       0.47      0.52      0.49        29\n",
      "           5       0.68      0.78      0.72        27\n",
      "           6       0.73      0.37      0.49        30\n",
      "           7       0.79      0.74      0.77        31\n",
      "           8       0.96      0.81      0.88        32\n",
      "           9       0.88      0.88      0.88        34\n",
      "\n",
      "    accuracy                           0.71       300\n",
      "   macro avg       0.72      0.71      0.71       300\n",
      "weighted avg       0.72      0.71      0.71       300\n",
      "\n",
      "0.71\n"
     ]
    }
   ],
   "source": [
    "model = KNeighborsClassifier(n_neighbors=4)\n",
    "model.fit(encoded_imgs_25_train,y_train)\n",
    "predictions_autoencoder25 = model.predict(encoded_imgs_25_test)\n",
    "\n",
    "print(classification_report(y_test,predictions_autoencoder25))\n",
    "print(accuracy_score(y_test, predictions_autoencoder25))"
   ]
  },
  {
   "cell_type": "code",
   "execution_count": 129,
   "metadata": {},
   "outputs": [
    {
     "data": {
      "text/plain": [
       "0.71"
      ]
     },
     "execution_count": 129,
     "metadata": {},
     "output_type": "execute_result"
    }
   ],
   "source": [
    "acc_autoencoder25 =accuracy_score(y_test, predictions_autoencoder25)\n",
    "acc_autoencoder25"
   ]
  },
  {
   "cell_type": "markdown",
   "metadata": {},
   "source": [
    "### autoencoder_50"
   ]
  },
  {
   "cell_type": "code",
   "execution_count": 123,
   "metadata": {},
   "outputs": [
    {
     "name": "stdout",
     "output_type": "stream",
     "text": [
      "[0.7408333333333333, 0.7075, 0.7316666666666667, 0.7358333333333333, 0.74, 0.7325, 0.7408333333333333, 0.7308333333333333, 0.7391666666666666]\n"
     ]
    }
   ],
   "source": [
    "k_range = range(1, 10)\n",
    "\n",
    "# list of scores from k_range\n",
    "k_scores = []\n",
    "cv = LeaveOneOut()\n",
    "\n",
    "for k in k_range:\n",
    "    # 2. run KNeighborsClassifier with k neighbours\n",
    "    knn = KNeighborsClassifier(n_neighbors=k)\n",
    "    # 3. obtain cross_val_score for KNeighborsClassifier with k neighbours\n",
    "    scores = cross_val_score(knn, encoded_imgs_50_train, y_train, cv=cv, scoring='accuracy')\n",
    "    # 4. append mean of scores for k neighbors to k_scores list\n",
    "    k_scores.append(scores.mean())\n",
    "print(k_scores)"
   ]
  },
  {
   "cell_type": "markdown",
   "metadata": {},
   "source": [
    "I keep the value k=1 as it has the biggest accuracy. Let us pick this k value and tain or model."
   ]
  },
  {
   "cell_type": "code",
   "execution_count": 124,
   "metadata": {
    "collapsed": true
   },
   "outputs": [
    {
     "name": "stdout",
     "output_type": "stream",
     "text": [
      "              precision    recall  f1-score   support\n",
      "\n",
      "           0       0.81      0.83      0.82        30\n",
      "           1       0.93      0.96      0.94        26\n",
      "           2       0.49      0.62      0.55        29\n",
      "           3       0.86      0.78      0.82        32\n",
      "           4       0.61      0.69      0.65        29\n",
      "           5       0.81      0.78      0.79        27\n",
      "           6       0.57      0.40      0.47        30\n",
      "           7       0.82      0.87      0.84        31\n",
      "           8       0.97      0.88      0.92        32\n",
      "           9       0.88      0.88      0.88        34\n",
      "\n",
      "    accuracy                           0.77       300\n",
      "   macro avg       0.77      0.77      0.77       300\n",
      "weighted avg       0.78      0.77      0.77       300\n",
      "\n",
      "0.77\n"
     ]
    }
   ],
   "source": [
    "model = KNeighborsClassifier(n_neighbors=4)\n",
    "model.fit(encoded_imgs_50_train,y_train)\n",
    "predictions_autoencoder50 = model.predict(encoded_imgs_50_test)\n",
    "\n",
    "print(classification_report(y_test,predictions_autoencoder50))\n",
    "print(accuracy_score(y_test, predictions_autoencoder50))"
   ]
  },
  {
   "cell_type": "code",
   "execution_count": 130,
   "metadata": {},
   "outputs": [
    {
     "data": {
      "text/plain": [
       "0.77"
      ]
     },
     "execution_count": 130,
     "metadata": {},
     "output_type": "execute_result"
    }
   ],
   "source": [
    "acc_autoencoder50 =accuracy_score(y_test, predictions_autoencoder50)\n",
    "acc_autoencoder50"
   ]
  },
  {
   "cell_type": "code",
   "execution_count": 229,
   "metadata": {},
   "outputs": [
    {
     "data": {
      "image/png": "[encoded data removed]",
      "text/plain": [
       "<Figure size 432x288 with 2 Axes>"
      ]
     },
     "metadata": {},
     "output_type": "display_data"
    }
   ],
   "source": [
    "cm = confusion_matrix(y_test, predictions_autoencoder50)\n",
    "ax = sns.heatmap(cm, annot=True, fmt=\"d\", cmap=\"Blues\")"
   ]
  },
  {
   "cell_type": "markdown",
   "metadata": {},
   "source": [
    "#### Check which classifier is the best for the appropriate parameter k of each case:"
   ]
  },
  {
   "cell_type": "code",
   "execution_count": 133,
   "metadata": {},
   "outputs": [
    {
     "data": {
      "text/html": [
       "<div>\n",
       "<style scoped>\n",
       "    .dataframe tbody tr th:only-of-type {\n",
       "        vertical-align: middle;\n",
       "    }\n",
       "\n",
       "    .dataframe tbody tr th {\n",
       "        vertical-align: top;\n",
       "    }\n",
       "\n",
       "    .dataframe thead th {\n",
       "        text-align: right;\n",
       "    }\n",
       "</style>\n",
       "<table border=\"1\" class=\"dataframe\">\n",
       "  <thead>\n",
       "    <tr style=\"text-align: right;\">\n",
       "      <th></th>\n",
       "      <th>Method</th>\n",
       "      <th>Accuracy</th>\n",
       "    </tr>\n",
       "  </thead>\n",
       "  <tbody>\n",
       "    <tr>\n",
       "      <th>0</th>\n",
       "      <td>pca10</td>\n",
       "      <td>0.703333</td>\n",
       "    </tr>\n",
       "    <tr>\n",
       "      <th>1</th>\n",
       "      <td>pca25</td>\n",
       "      <td>0.683333</td>\n",
       "    </tr>\n",
       "    <tr>\n",
       "      <th>2</th>\n",
       "      <td>pca50</td>\n",
       "      <td>0.613333</td>\n",
       "    </tr>\n",
       "    <tr>\n",
       "      <th>3</th>\n",
       "      <td>autoencoder10</td>\n",
       "      <td>0.676667</td>\n",
       "    </tr>\n",
       "    <tr>\n",
       "      <th>4</th>\n",
       "      <td>autoencoder25</td>\n",
       "      <td>0.710000</td>\n",
       "    </tr>\n",
       "    <tr>\n",
       "      <th>5</th>\n",
       "      <td>autoencoder50</td>\n",
       "      <td>0.770000</td>\n",
       "    </tr>\n",
       "  </tbody>\n",
       "</table>\n",
       "</div>"
      ],
      "text/plain": [
       "          Method  Accuracy\n",
       "0          pca10  0.703333\n",
       "1          pca25  0.683333\n",
       "2          pca50  0.613333\n",
       "3  autoencoder10  0.676667\n",
       "4  autoencoder25  0.710000\n",
       "5  autoencoder50  0.770000"
      ]
     },
     "execution_count": 133,
     "metadata": {},
     "output_type": "execute_result"
    }
   ],
   "source": [
    "import pandas as pd\n",
    "acc_data = [['pca10', acc_pca10], ['pca25', acc_pca25], ['pca50', acc_pca50],\n",
    "            ['autoencoder10',acc_autoencoder10],['autoencoder25',acc_autoencoder25],\n",
    "            ['autoencoder50',acc_autoencoder50]]\n",
    "\n",
    "df_acc_data= pd.DataFrame(acc_data, columns = ['Method', 'Accuracy'])\n",
    "df_acc_data"
   ]
  },
  {
   "cell_type": "markdown",
   "metadata": {},
   "source": [
    "We can see that for the dataset that was used the method autoencoder with M=50 dimensions the accuracy of KNN is the biggest(in test set).\n",
    "* Note that: for each of the six datasets the parameter k was choosed in a way so that the KNN classifier be the best, so the k is not the same for each case. Above are the results for the best k we could choose."
   ]
  },
  {
   "cell_type": "code",
   "execution_count": 137,
   "metadata": {},
   "outputs": [
    {
     "data": {
      "image/png": "[encoded data removed]",
      "text/plain": [
       "<Figure size 1080x432 with 1 Axes>"
      ]
     },
     "metadata": {
      "needs_background": "light"
     },
     "output_type": "display_data"
    }
   ],
   "source": [
    "import seaborn as sns\n",
    "plt.subplots(figsize=(15,6))\n",
    "sns.barplot(x=\"Method\", y=\"Accuracy\",data=df_acc_data,palette='hot',edgecolor=sns.color_palette('dark',7))\n",
    "plt.xticks(rotation=90)\n",
    "plt.title('MLA Test Accuracy Comparison')\n",
    "plt.show()"
   ]
  },
  {
   "cell_type": "markdown",
   "metadata": {},
   "source": [
    "### Question 3:\n",
    "#### Use the best of the 6 datasets with decreased dimensions (in comparison with question 2γ). Classify the data of this dataset using K=10 clusters( one cluster per category) with KNN and GMM."
   ]
  },
  {
   "cell_type": "markdown",
   "metadata": {},
   "source": [
    "In question 2γ we found that the dataset which created with autoencoder method with M=50 dimensions gives the best accuracy in test set for KNN algorithm. So we keep this dataset."
   ]
  },
  {
   "cell_type": "code",
   "execution_count": 141,
   "metadata": {},
   "outputs": [
    {
     "name": "stdout",
     "output_type": "stream",
     "text": [
      "(1200, 50)\n",
      "(300, 50)\n"
     ]
    }
   ],
   "source": [
    "print(encoded_imgs_50_train.shape)\n",
    "print(encoded_imgs_50_test.shape)"
   ]
  },
  {
   "cell_type": "markdown",
   "metadata": {},
   "source": [
    "### k-means"
   ]
  },
  {
   "cell_type": "code",
   "execution_count": 218,
   "metadata": {},
   "outputs": [
    {
     "name": "stdout",
     "output_type": "stream",
     "text": [
      "(1500, 50)\n",
      "(1500,)\n"
     ]
    }
   ],
   "source": [
    "data_autoencoder50=np.concatenate((encoded_imgs_50_train,encoded_imgs_50_test)) #merge data\n",
    "labels_autoencoder50=np.concatenate((y_train,y_test))\n",
    "print(data_autoencoder50.shape)\n",
    "print(labels_autoencoder50.shape)"
   ]
  },
  {
   "cell_type": "code",
   "execution_count": 245,
   "metadata": {},
   "outputs": [],
   "source": [
    "from sklearn.cluster import KMeans\n",
    "kmeans = KMeans(n_clusters=10)\n",
    "predicted_labels=kmeans.fit_predict(data_autoencoder50)"
   ]
  },
  {
   "cell_type": "code",
   "execution_count": 247,
   "metadata": {},
   "outputs": [
    {
     "data": {
      "text/plain": [
       "0.5227712593407791"
      ]
     },
     "execution_count": 247,
     "metadata": {},
     "output_type": "execute_result"
    }
   ],
   "source": [
    "sklearn.metrics.normalized_mutual_info_score(labels_autoencoder50, predicted_labels) #metric normalized mutual info"
   ]
  },
  {
   "cell_type": "code",
   "execution_count": 230,
   "metadata": {},
   "outputs": [],
   "source": [
    "from sklearn.metrics import confusion_matrix\n",
    "\n",
    "cm = confusion_matrix(labels_autoencoder50, predicted_labels)"
   ]
  },
  {
   "cell_type": "code",
   "execution_count": 231,
   "metadata": {
    "scrolled": true
   },
   "outputs": [
    {
     "data": {
      "image/png": "[encoded data removed]",
      "text/plain": [
       "<Figure size 432x288 with 2 Axes>"
      ]
     },
     "metadata": {},
     "output_type": "display_data"
    }
   ],
   "source": [
    "import seaborn as sns; sns.set()\n",
    "\n",
    "ax = sns.heatmap(cm, annot=True, fmt=\"d\", cmap=\"Blues\")"
   ]
  },
  {
   "cell_type": "markdown",
   "metadata": {},
   "source": [
    "### GMM"
   ]
  },
  {
   "cell_type": "code",
   "execution_count": 243,
   "metadata": {},
   "outputs": [],
   "source": [
    "from sklearn.mixture import GaussianMixture\n",
    "\n",
    "gm = GaussianMixture(n_components=10, random_state=0)\n"
   ]
  },
  {
   "cell_type": "code",
   "execution_count": 248,
   "metadata": {},
   "outputs": [],
   "source": [
    "predicted_labels=gm.fit_predict(data_autoencoder50)"
   ]
  },
  {
   "cell_type": "code",
   "execution_count": 249,
   "metadata": {},
   "outputs": [
    {
     "data": {
      "text/plain": [
       "0.5447289307139109"
      ]
     },
     "execution_count": 249,
     "metadata": {},
     "output_type": "execute_result"
    }
   ],
   "source": [
    "sklearn.metrics.normalized_mutual_info_score(labels_autoencoder50, predicted_labels) #metric normalized mutual info"
   ]
  },
  {
   "cell_type": "code",
   "execution_count": null,
   "metadata": {},
   "outputs": [],
   "source": []
  }
 ],
 "metadata": {
  "kernelspec": {
   "display_name": "Python 3",
   "language": "python",
   "name": "python3"
  },
  "language_info": {
   "codemirror_mode": {
    "name": "ipython",
    "version": 3
   },
   "file_extension": ".py",
   "mimetype": "text/x-python",
   "name": "python",
   "nbconvert_exporter": "python",
   "pygments_lexer": "ipython3",
   "version": "3.7.6"
  }
 },
 "nbformat": 4,
 "nbformat_minor": 4
}
