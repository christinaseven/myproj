{
  "nbformat": 4,
  "nbformat_minor": 0,
  "metadata": {
    "colab": {
      "name": "second_order_example.ipynb",
      "provenance": []
    },
    "kernelspec": {
      "name": "python3",
      "display_name": "Python 3"
    },
    "language_info": {
      "name": "python"
    }
  },
  "cells": [
    {
      "cell_type": "code",
      "execution_count": 1,
      "metadata": {
        "id": "yxn6OTAjw0Xi"
      },
      "outputs": [],
      "source": [
        "import torch\n",
        "from torch.autograd import Variable\n",
        "import torch.nn.functional as F\n",
        "import torch.utils.data as Data\n",
        "import matplotlib.pyplot as plt\n",
        "import numpy as np\n",
        "import imageio\n",
        "from torch import nn\n",
        "%matplotlib inline"
      ]
    },
    {
      "cell_type": "code",
      "source": [
        "x = torch.unsqueeze(torch.linspace(0, 7, 100), dim=1) \n",
        "\n",
        "y = torch.exp(-x/5)*torch.sin(x)"
      ],
      "metadata": {
        "id": "VF7GR58oL1dR"
      },
      "execution_count": 2,
      "outputs": []
    },
    {
      "cell_type": "code",
      "source": [
        "#net is the network that approximates the time series P(t)\n",
        "net = torch.nn.Sequential(\n",
        "        torch.nn.Linear(1, 10),\n",
        "        torch.nn.Sigmoid(),\n",
        "        torch.nn.Linear(10, 1),\n",
        "    )\n",
        "optimizer = torch.optim.Adam(net.parameters(), lr=0.1)\n",
        "loss_func = torch.nn.MSELoss() "
      ],
      "metadata": {
        "id": "gQigFFJfxCKz"
      },
      "execution_count": 3,
      "outputs": []
    },
    {
      "cell_type": "code",
      "source": [
        "#training\n",
        "losses=[]\n",
        "for t in range(3):\n",
        "  \n",
        "    prediction = net(x)     \n",
        "\n",
        "    loss = loss_func(prediction, y) \n",
        "    losses.append(loss)\n",
        "    print(loss)\n",
        "\n",
        "    optimizer.zero_grad()   \n",
        "    loss.backward()         \n",
        "    optimizer.step()      "
      ],
      "metadata": {
        "colab": {
          "base_uri": "https://localhost:8080/"
        },
        "id": "D7fFBEnmL6xo",
        "outputId": "8a72a925-b313-4260-d635-f7f098bae28e"
      },
      "execution_count": 6,
      "outputs": [
        {
          "output_type": "stream",
          "name": "stdout",
          "text": [
            "tensor(0.0002, grad_fn=<MseLossBackward0>)\n",
            "tensor(0.0002, grad_fn=<MseLossBackward0>)\n",
            "tensor(0.0001, grad_fn=<MseLossBackward0>)\n"
          ]
        }
      ]
    },
    {
      "cell_type": "code",
      "source": [
        "pred = net(x)\n",
        "fig, ax = plt.subplots()\n",
        "ax.scatter(x.data.numpy(),y.data.numpy(), color = \"orange\")\n",
        "ax.plot(x.data.numpy(), pred.data.numpy(), 'g-', lw=3)"
      ],
      "metadata": {
        "colab": {
          "base_uri": "https://localhost:8080/",
          "height": 286
        },
        "id": "FRVqkaNjL99p",
        "outputId": "301f88c8-50ed-4d9b-e9ad-24e18c40d79d"
      },
      "execution_count": 7,
      "outputs": [
        {
          "output_type": "execute_result",
          "data": {
            "text/plain": [
              "[<matplotlib.lines.Line2D at 0x7ff209e4a950>]"
            ]
          },
          "metadata": {},
          "execution_count": 7
        },
        {
          "output_type": "display_data",
          "data": {
            "image/png": "[encoded data removed]",
            "text/plain": [
              "<Figure size 432x288 with 1 Axes>"
            ]
          },
          "metadata": {
            "needs_background": "light"
          }
        }
      ]
    },
    {
      "cell_type": "code",
      "source": [
        "x = torch.unsqueeze(torch.linspace(0, 10, 800), dim=1) #OUT OF T\n",
        "y = torch.exp(-x/5)*torch.sin(x)\n",
        "pred = net(x)\n",
        "loss = loss_func(pred, y)\n",
        "print(loss)\n",
        "fig, ax = plt.subplots()\n",
        "ax.scatter(x.data.numpy(),y.data.numpy(), color = \"orange\")\n",
        "ax.plot(x.data.numpy(), pred.data.numpy(), 'g-', lw=3)"
      ],
      "metadata": {
        "colab": {
          "base_uri": "https://localhost:8080/",
          "height": 304
        },
        "id": "3xwjEqsUL-G6",
        "outputId": "d0e1790f-bc78-4d2b-c111-c89c52a139f7"
      },
      "execution_count": 8,
      "outputs": [
        {
          "output_type": "stream",
          "name": "stdout",
          "text": [
            "tensor(0.0484, grad_fn=<MseLossBackward0>)\n"
          ]
        },
        {
          "output_type": "execute_result",
          "data": {
            "text/plain": [
              "[<matplotlib.lines.Line2D at 0x7ff209941fd0>]"
            ]
          },
          "metadata": {},
          "execution_count": 8
        },
        {
          "output_type": "display_data",
          "data": {
            "image/png": "[encoded data removed]",
            "text/plain": [
              "<Figure size 432x288 with 1 Axes>"
            ]
          },
          "metadata": {
            "needs_background": "light"
          }
        }
      ]
    },
    {
      "cell_type": "code",
      "source": [
        "#analyticaly the neural network and the derivatives "
      ],
      "metadata": {
        "id": "CFEfiaHGMKb_"
      },
      "execution_count": 160,
      "outputs": []
    },
    {
      "cell_type": "code",
      "source": [
        "def sigmoid(x):\n",
        "  return 1/(1+torch.exp(-x))\n",
        "\n",
        "def sigmoid_grad(x):\n",
        "  return sigmoid(x)*(1- sigmoid(x))\n",
        "\n",
        "def sigmoid_grad_grad(x):\n",
        "  return sigmoid_grad(x) -2*sigmoid(x)*sigmoid_grad(x)\n",
        "\n",
        "def neural_network(x,weights,bias):\n",
        "    s_z = sigmoid(torch.matmul(x,weights[0])+bias[0])\n",
        "    return torch.matmul(s_z, weights[1]) + bias[1]\n",
        "# first derivative of net\n",
        "def dN_dx(weights, x):\n",
        "    s_z_grad = sigmoid_grad(torch.matmul(x,weights[0])+bias[0]) \n",
        "    mul=torch.mul(weights[0].T,weights[1])\n",
        "    return torch.matmul(s_z_grad,mul)"
      ],
      "metadata": {
        "id": "LMAC47vVJiKc"
      },
      "execution_count": 263,
      "outputs": []
    },
    {
      "cell_type": "code",
      "source": [
        "#second derivative\n",
        "def d_dN_dx(weights,x):\n",
        "  s_z_grad = sigmoid_grad_grad(torch.matmul(x,weights[0])+bias[0])\n",
        "  mul=torch.mul((weights[0].T)**2,weights[1])\n",
        "  return torch.matmul(s_z_grad,mul)"
      ],
      "metadata": {
        "id": "DUZhNccKOG3D"
      },
      "execution_count": 264,
      "outputs": []
    },
    {
      "cell_type": "code",
      "source": [
        "def error(pred,target): return ((pred-target)**2).mean() "
      ],
      "metadata": {
        "id": "rg3jwBaMLpkD"
      },
      "execution_count": 265,
      "outputs": []
    },
    {
      "cell_type": "code",
      "source": [
        "#initialize weights and biases\n",
        "weights = [torch.randn((1,10),  requires_grad=True), torch.randn((10,1),  requires_grad=True)]\n",
        "bias = [torch.randn(10,  requires_grad=True), torch.randn(1,  requires_grad=True)]"
      ],
      "metadata": {
        "id": "Jgm6jvNrMP14"
      },
      "execution_count": 266,
      "outputs": []
    },
    {
      "cell_type": "code",
      "source": [
        "x = torch.unsqueeze(torch.linspace(0, 7, 100), dim=1) \n",
        "y = torch.exp(-x/5)*torch.sin(x)"
      ],
      "metadata": {
        "id": "oxYDLNZBPDb1"
      },
      "execution_count": 315,
      "outputs": []
    },
    {
      "cell_type": "code",
      "source": [
        "epochs=3\n",
        "lr=0.01\n",
        "for i in range(epochs):\n",
        "    pred = neural_network(x,weights,bias)\n",
        "    loss = error(pred,y)\n",
        "    loss.backward()\n",
        "    weights[0].data -= lr*weights[0].grad.data\n",
        "    weights[1].data -= lr*weights[1].grad.data\n",
        "    bias[0].data -= lr*bias[0].grad.data\n",
        "    bias[1].data -= lr*bias[1].grad.data\n",
        "\n",
        " \n",
        "    weights[0].grad.zero_()\n",
        "    weights[1].grad.zero_()\n",
        "    bias[0].grad.zero_()\n",
        "    bias[1].grad.zero_()\n",
        "\n",
        "    print(\"Loss: \", loss.item())"
      ],
      "metadata": {
        "colab": {
          "base_uri": "https://localhost:8080/"
        },
        "id": "xILWwcpeLvxb",
        "outputId": "f60408bd-c14c-4282-d659-355f0a4e6f78"
      },
      "execution_count": 316,
      "outputs": [
        {
          "output_type": "stream",
          "name": "stdout",
          "text": [
            "Loss:  0.0009916801936924458\n",
            "Loss:  0.000991349807009101\n",
            "Loss:  0.0009910191874951124\n"
          ]
        }
      ]
    },
    {
      "cell_type": "code",
      "source": [
        "N=neural_network(x,weights,bias)\n",
        "fig, ax = plt.subplots()\n",
        "ax.scatter(x.data.numpy(),y.data.numpy(), color = \"orange\")\n",
        "ax.plot(x.data.numpy(), N.data.numpy(), 'g-', lw=3)"
      ],
      "metadata": {
        "colab": {
          "base_uri": "https://localhost:8080/",
          "height": 286
        },
        "id": "1C4gQPEkxQ8N",
        "outputId": "61fbc8e2-2550-4868-ce1a-10fb9238984c"
      },
      "execution_count": 317,
      "outputs": [
        {
          "output_type": "execute_result",
          "data": {
            "text/plain": [
              "[<matplotlib.lines.Line2D at 0x7ff206c53990>]"
            ]
          },
          "metadata": {},
          "execution_count": 317
        },
        {
          "output_type": "display_data",
          "data": {
            "image/png": "[encoded data removed]",
            "text/plain": [
              "<Figure size 432x288 with 1 Axes>"
            ]
          },
          "metadata": {
            "needs_background": "light"
          }
        }
      ]
    },
    {
      "cell_type": "markdown",
      "source": [
        "Suppose $$P(t) \\approx N(t)$$ and $$ \\frac{dN^{2}}{dt^{2}}=net*net1 + net2$$ with loss function $$ L = \\frac{dN^{2}}{dt^{2}} - net*net1 - net2$$"
      ],
      "metadata": {
        "id": "qS0UNoEwjKfe"
      }
    },
    {
      "cell_type": "code",
      "source": [
        "#second approach"
      ],
      "metadata": {
        "id": "hadsvL6UCwbK"
      },
      "execution_count": null,
      "outputs": []
    },
    {
      "cell_type": "code",
      "source": [
        "x = torch.unsqueeze(torch.linspace(0, 7, 1000), dim=1) "
      ],
      "metadata": {
        "id": "KixEosqyrWqO"
      },
      "execution_count": 360,
      "outputs": []
    },
    {
      "cell_type": "code",
      "source": [
        "net1 = torch.nn.Sequential(\n",
        "        torch.nn.Linear(1, 10),\n",
        "        torch.nn.Sigmoid(),\n",
        "        torch.nn.Linear(10, 1),\n",
        "    )"
      ],
      "metadata": {
        "id": "1TdKdIzCxg1A"
      },
      "execution_count": 361,
      "outputs": []
    },
    {
      "cell_type": "code",
      "source": [
        "def loss(x):\n",
        "\n",
        "    x.requires_grad = True\n",
        "    #N = net(x)\n",
        "    N = neural_network(x, weights, bias)\n",
        "    dN_x_x = d_dN_dx(weights,x)\n",
        "\n",
        "    #dN_dx = torch.autograd.grad(N, x, grad_outputs=torch.ones_like(N),create_graph=True)[0]\n",
        "    #dN_x_x = torch.autograd.grad(dN_dx, x, grad_outputs=torch.ones_like(dN_dx),create_graph=True )[0]\n",
        "\n",
        "    return  torch.mean( ( dN_x_x - net1(x)*N)  ** 2)"
      ],
      "metadata": {
        "id": "MQkgmilCxyJt"
      },
      "execution_count": 362,
      "outputs": []
    },
    {
      "cell_type": "code",
      "source": [
        "optimizer = torch.optim.Adam(net1.parameters(), lr=0.001)"
      ],
      "metadata": {
        "id": "hGRgvJFmx1a9"
      },
      "execution_count": 363,
      "outputs": []
    },
    {
      "cell_type": "code",
      "source": [
        "def closure():\n",
        "    \n",
        "    l = loss(x)\n",
        "    losses.append(l)\n",
        "    \n",
        "    optimizer.zero_grad()\n",
        "    l.backward()\n",
        "    print(f\"loss: {l}\")\n",
        "    return l\n",
        "\n",
        "for i in range(4):\n",
        "    optimizer.step(closure)"
      ],
      "metadata": {
        "colab": {
          "base_uri": "https://localhost:8080/"
        },
        "id": "K8QJnR3rx5So",
        "outputId": "5ffe9756-f28e-4a11-d143-8cb1c40eea5b"
      },
      "execution_count": 372,
      "outputs": [
        {
          "output_type": "stream",
          "name": "stdout",
          "text": [
            "loss: 0.005661093629896641\n",
            "loss: 0.0056604924611747265\n",
            "loss: 0.005659890361130238\n",
            "loss: 0.005659288726747036\n"
          ]
        }
      ]
    },
    {
      "cell_type": "code",
      "source": [
        "#check the ode \n",
        "x = torch.Tensor(np.linspace(0, 10, 1000)[:, None]) \n",
        "y=torch.exp(-(x/5))*torch.sin(x)\n",
        "dy = torch.exp(-(x/5))*(-1/5)*torch.sin(x) + torch.exp(-(x/5))*torch.cos(x)\n",
        "ddy = -(1/5)*dy - y -(1/5)*torch.exp(-(x/5))*torch.cos(x)\n",
        "pred = net(x)*net1(x)\n",
        "plt.plot(x.data.numpy(), pred.data.numpy(), 'g-')\n",
        "plt.plot(x.data.numpy(), ddy.data.numpy())"
      ],
      "metadata": {
        "colab": {
          "base_uri": "https://localhost:8080/",
          "height": 282
        },
        "id": "Sdq9ywHnL5HH",
        "outputId": "645316fb-e097-494d-f452-d806a199351d"
      },
      "execution_count": 374,
      "outputs": [
        {
          "output_type": "execute_result",
          "data": {
            "text/plain": [
              "[<matplotlib.lines.Line2D at 0x7ff2063e0f50>]"
            ]
          },
          "metadata": {},
          "execution_count": 374
        },
        {
          "output_type": "display_data",
          "data": {
            "image/png": "[encoded data removed]",
            "text/plain": [
              "<Figure size 432x288 with 1 Axes>"
            ]
          },
          "metadata": {
            "needs_background": "light"
          }
        }
      ]
    },
    {
      "cell_type": "code",
      "source": [
        "#Train net2"
      ],
      "metadata": {
        "id": "IuMdu265fbAX"
      },
      "execution_count": null,
      "outputs": []
    },
    {
      "cell_type": "code",
      "source": [
        "net2 = torch.nn.Sequential(\n",
        "        torch.nn.Linear(1, 10),\n",
        "        torch.nn.Sigmoid(),\n",
        "        torch.nn.Linear(10, 1),\n",
        "    )"
      ],
      "metadata": {
        "id": "x49KzZW8gS_E"
      },
      "execution_count": 375,
      "outputs": []
    },
    {
      "cell_type": "code",
      "source": [
        "def loss_net2(x):\n",
        "\n",
        "    x.requires_grad = True\n",
        "    #N = net(x)\n",
        "    N = neural_network(x, weights, bias)\n",
        "    dN_x_x = d_dN_dx(weights,x)\n",
        "\n",
        "    #dN_dx = torch.autograd.grad(N, x, grad_outputs=torch.ones_like(N),create_graph=True)[0]\n",
        "    #dN_x_x = torch.autograd.grad(dN_dx, x, grad_outputs=torch.ones_like(dN_dx),create_graph=True )[0]\n",
        "\n",
        "    return  torch.mean( ( dN_x_x - net1(x)*N -net2(x))  ** 2)"
      ],
      "metadata": {
        "id": "qW-eNs3FgS_E"
      },
      "execution_count": 376,
      "outputs": []
    },
    {
      "cell_type": "code",
      "source": [
        "optimizer = torch.optim.Adam(net2.parameters(), lr=0.001)"
      ],
      "metadata": {
        "id": "7DwMcTL0gS_E"
      },
      "execution_count": 377,
      "outputs": []
    },
    {
      "cell_type": "code",
      "source": [
        "def closure():\n",
        "    \n",
        "    l = loss_net2(x)\n",
        "    losses.append(l)\n",
        "    \n",
        "    optimizer.zero_grad()\n",
        "    l.backward()\n",
        "    print(f\"loss: {l}\")\n",
        "    return l\n",
        "\n",
        "for i in range(4):\n",
        "    optimizer.step(closure)"
      ],
      "metadata": {
        "colab": {
          "base_uri": "https://localhost:8080/"
        },
        "outputId": "592789c5-d3dd-4fd9-f026-6d13a15eb853",
        "id": "AwxBeO0sgS_E"
      },
      "execution_count": 381,
      "outputs": [
        {
          "output_type": "stream",
          "name": "stdout",
          "text": [
            "loss: 0.003923005424439907\n",
            "loss: 0.003922479692846537\n",
            "loss: 0.003921953029930592\n",
            "loss: 0.0039214263670146465\n"
          ]
        }
      ]
    },
    {
      "cell_type": "code",
      "source": [
        "#check the ode \n",
        "x = torch.Tensor(np.linspace(0, 10, 1000)[:, None]) \n",
        "y=torch.exp(-(x/5))*torch.sin(x)\n",
        "dy = torch.exp(-(x/5))*(-1/5)*torch.sin(x) + torch.exp(-(x/5))*torch.cos(x)\n",
        "ddy = -(1/5)*dy - y -(1/5)*torch.exp(-(x/5))*torch.cos(x)\n",
        "pred = neural_network(x,weights,bias)*net1(x) +net2(x)\n",
        "plt.plot(x.data.numpy(), pred.data.numpy(), 'g-')\n",
        "plt.plot(x.data.numpy(), ddy.data.numpy())"
      ],
      "metadata": {
        "colab": {
          "base_uri": "https://localhost:8080/",
          "height": 282
        },
        "id": "sLKZk5wz55bF",
        "outputId": "e5140310-b304-4118-c43f-a241b1457d4a"
      },
      "execution_count": 382,
      "outputs": [
        {
          "output_type": "execute_result",
          "data": {
            "text/plain": [
              "[<matplotlib.lines.Line2D at 0x7ff20623a150>]"
            ]
          },
          "metadata": {},
          "execution_count": 382
        },
        {
          "output_type": "display_data",
          "data": {
            "image/png": "[encoded data removed]",
            "text/plain": [
              "<Figure size 432x288 with 1 Axes>"
            ]
          },
          "metadata": {
            "needs_background": "light"
          }
        }
      ]
    },
    {
      "cell_type": "code",
      "source": [
        "#solution of ode \n",
        "NN = nn.Sequential(nn.Linear(1, 10), nn.Sigmoid(), nn.Linear(10,1))\n",
        "#A = net(x[0])\n",
        "Psi_t = lambda x: x + x**2 * NN(x) #NN is responsible for the solution of O.D.E\n",
        "f = lambda x: net1(x)*neural_network(x,weights,bias) + net2(x) #they are both trained. "
      ],
      "metadata": {
        "id": "ETE608v40pHE"
      },
      "execution_count": 383,
      "outputs": []
    },
    {
      "cell_type": "code",
      "source": [
        "def loss_fun(x):\n",
        "\n",
        "    x.requires_grad = True\n",
        "    outputs = Psi_t(x)\n",
        "    Psi_t_x = torch.autograd.grad(outputs, x, grad_outputs=torch.ones_like(outputs),\n",
        "                        create_graph=True)[0]\n",
        "    Psi_t_x_x = torch.autograd.grad(Psi_t_x, x, grad_outputs=torch.ones_like(Psi_t_x),\n",
        "                                            create_graph=True )[0]\n",
        "\n",
        "    return  torch.mean( ( Psi_t_x_x - f(x) )  ** 2)"
      ],
      "metadata": {
        "id": "xMARsgYch3Hj"
      },
      "execution_count": 384,
      "outputs": []
    },
    {
      "cell_type": "code",
      "source": [
        "optimizer = torch.optim.Adam(NN.parameters(), lr=0.001)"
      ],
      "metadata": {
        "id": "BgncOwJMiDRA"
      },
      "execution_count": 385,
      "outputs": []
    },
    {
      "cell_type": "code",
      "source": [
        "def closure():\n",
        "\n",
        "    optimizer.zero_grad()\n",
        "    l = loss_fun(x)\n",
        "    print(l)\n",
        "    #l.backward()\n",
        "    l.backward(retain_graph=True)\n",
        "    return l\n",
        "\n",
        "for i in range(4):\n",
        "    optimizer.step(closure)"
      ],
      "metadata": {
        "colab": {
          "base_uri": "https://localhost:8080/"
        },
        "id": "dTmXbJ2IiFTm",
        "outputId": "5b49d8ff-f329-477b-88f4-38d9e8386ef2"
      },
      "execution_count": 388,
      "outputs": [
        {
          "output_type": "stream",
          "name": "stdout",
          "text": [
            "tensor(0.0043, grad_fn=<MeanBackward0>)\n",
            "tensor(0.0043, grad_fn=<MeanBackward0>)\n",
            "tensor(0.0043, grad_fn=<MeanBackward0>)\n",
            "tensor(0.0043, grad_fn=<MeanBackward0>)\n"
          ]
        }
      ]
    },
    {
      "cell_type": "code",
      "source": [
        "x = torch.unsqueeze(torch.linspace(0, 13, 800), dim=1) \n",
        "y = torch.exp(-x/5)*torch.sin(x)\n",
        "p_t_second = Psi_t(x)\n",
        "p_t_first = neural_network(x,weights,bias)\n",
        "fig, ax = plt.subplots(dpi=80)\n",
        "ax.scatter(x.data.numpy(),y.data.numpy(), color = \"orange\")\n",
        "ax.plot(x.data.numpy(), p_t_second.data.numpy(), 'g-', lw=3, label ='new method approximation of P(t)')\n",
        "ax.plot(x.data.numpy(), p_t_first.data.numpy(), lw=3, label ='Neural Network approximation of P(t)')\n",
        "\n",
        "ax.vlines(x=7, ymin=-1.5, ymax=1.6, color='black', label='untrained data')\n",
        "\n",
        "\n",
        "#ax.plot(x.data.numpy(), yrk, lw=3, label ='RK approximation of P(t)')\n",
        "\n",
        "plt.legend(loc='best');"
      ],
      "metadata": {
        "colab": {
          "base_uri": "https://localhost:8080/",
          "height": 292
        },
        "id": "IRv3KPG_iIQV",
        "outputId": "900ab2f5-dc2c-40c8-c547-0eca2719f74a"
      },
      "execution_count": 390,
      "outputs": [
        {
          "output_type": "display_data",
          "data": {
            "image/png": "[encoded data removed]",
            "text/plain": [
              "<Figure size 480x320 with 1 Axes>"
            ]
          },
          "metadata": {
            "needs_background": "light"
          }
        }
      ]
    },
    {
      "cell_type": "code",
      "source": [
        ""
      ],
      "metadata": {
        "id": "P-w7LpORI_sr"
      },
      "execution_count": null,
      "outputs": []
    }
  ]
}